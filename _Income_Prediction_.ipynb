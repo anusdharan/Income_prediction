{
  "nbformat": 4,
  "nbformat_minor": 5,
  "metadata": {
    "colab": {
      "name": "_Income Prediction .ipynb",
      "provenance": [],
      "collapsed_sections": [
        "editorial-roulette"
      ]
    },
    "kernelspec": {
      "display_name": "Python 3",
      "language": "python",
      "name": "python3"
    },
    "language_info": {
      "codemirror_mode": {
        "name": "ipython",
        "version": 3
      },
      "file_extension": ".py",
      "mimetype": "text/x-python",
      "name": "python",
      "nbconvert_exporter": "python",
      "pygments_lexer": "ipython3",
      "version": "3.8.8"
    }
  },
  "cells": [
    {
      "cell_type": "markdown",
      "metadata": {
        "id": "stylish-identity"
      },
      "source": [
        "# About this Project\n",
        "This dataset has been taken from the Kaggle. The goal of this notebook is to accurately predict whether or not an adult makes more than 50000 US Dollars in an year on the basis of the feautures given."
      ],
      "id": "stylish-identity"
    },
    {
      "cell_type": "markdown",
      "metadata": {
        "id": "wound-programming"
      },
      "source": [
        "# About the Dataset\n",
        "1.Age: Describes the age of individuals. Continuous.\n",
        "\n",
        "2.Workclass: Private, Self-emp-not-inc, Self-emp-inc, Federal-gov, Local-gov, State-gov, Without-pay, Never-worked.\n",
        "\n",
        "3.fnlwgt: final weight. In other words, this is the number of people the census believe the entry represents..\n",
        "\n",
        "○ Integer greater than 0\n",
        "\n",
        "4.education: Bachelors, Some-college, 11th, HS-grad, Prof-school, Assoc-acdm, Assoc-voc, 9th, 7th-8th, 12th, Masters, 1st-4th, 10th, Doctorate, 5th-6th, Preschool.\n",
        "\n",
        "5.education-num: Number of years spent in education. Continuous.\n",
        "\n",
        "6.marital-status: Married-civ-spouse, Divorced, Never-married, Separated, Widowed, Married-spouse-absent, Married-AF-spouse.\n",
        "\n",
        "7.occupation: Tech-support, Craft-repair, Other-service, Sales, Exec-managerial, Prof-specialty, Handlers-cleaners, Machine-op-inspct, Adm-clerical, Farming-fishing, Transport-moving, Priv-house-serv, Protective-serv, Armed-Forces.\n",
        "\n",
        "8.relationship: Wife, Own-child, Husband, Not-in-family, Other-relative, Unmarried.\n",
        "\n",
        "9.race: White, Asian-Pac-Islander, Amer-Indian-Eskimo, Other, Black.\n",
        "\n",
        "10.sex: Female, Male.\n",
        "\n",
        "11.capital-gain: Continuous.\n",
        "\n",
        "12.capital-loss: Continuous.\n",
        "\n",
        "13.hours-per-week: Continuous.\n",
        "\n",
        "14.native-country: United-States, Cambodia, England, Puerto-Rico, Canada, Germany, Outlying-US(Guam-USVI-etc), India, Japan, Greece, South, China, Cuba, Iran, Honduras, Philippines, Italy, Poland, Jamaica, Vietnam, Mexico, Portugal, Ireland, France, Dominican-Republic, Laos, Ecuador, Taiwan, Haiti, Columbia, Hungary, Guatemala, Nicaragua, Scotland, Thailand, Yugoslavia, El-Salvador, Trinadad&Tobago, Peru, Hong, Holand-Netherlands.\n",
        "\n",
        "15.salary: >50K,<=50K"
      ],
      "id": "wound-programming"
    },
    {
      "cell_type": "code",
      "metadata": {
        "id": "minus-melissa"
      },
      "source": [
        "#import libraries\n",
        "import pandas as pd\n",
        "import numpy as np\n",
        "import matplotlib.pyplot as plt\n",
        "import seaborn as sns\n",
        "sns.set()\n",
        "%matplotlib inline"
      ],
      "id": "minus-melissa",
      "execution_count": 1,
      "outputs": []
    },
    {
      "cell_type": "code",
      "metadata": {
        "id": "protected-stock"
      },
      "source": [
        "#load dataset\n",
        "df_main = pd.read_csv(r'/content/adult.csv')"
      ],
      "id": "protected-stock",
      "execution_count": 2,
      "outputs": []
    },
    {
      "cell_type": "code",
      "metadata": {
        "colab": {
          "base_uri": "https://localhost:8080/",
          "height": 394
        },
        "id": "british-ancient",
        "outputId": "f82794bd-33e0-41ad-d15b-ff7802b7256b"
      },
      "source": [
        "df_main.head()"
      ],
      "id": "british-ancient",
      "execution_count": 3,
      "outputs": [
        {
          "output_type": "execute_result",
          "data": {
            "text/html": [
              "<div>\n",
              "<style scoped>\n",
              "    .dataframe tbody tr th:only-of-type {\n",
              "        vertical-align: middle;\n",
              "    }\n",
              "\n",
              "    .dataframe tbody tr th {\n",
              "        vertical-align: top;\n",
              "    }\n",
              "\n",
              "    .dataframe thead th {\n",
              "        text-align: right;\n",
              "    }\n",
              "</style>\n",
              "<table border=\"1\" class=\"dataframe\">\n",
              "  <thead>\n",
              "    <tr style=\"text-align: right;\">\n",
              "      <th></th>\n",
              "      <th>age</th>\n",
              "      <th>workclass</th>\n",
              "      <th>fnlwgt</th>\n",
              "      <th>education</th>\n",
              "      <th>educational-num</th>\n",
              "      <th>marital-status</th>\n",
              "      <th>occupation</th>\n",
              "      <th>relationship</th>\n",
              "      <th>race</th>\n",
              "      <th>gender</th>\n",
              "      <th>capital-gain</th>\n",
              "      <th>capital-loss</th>\n",
              "      <th>hours-per-week</th>\n",
              "      <th>native-country</th>\n",
              "      <th>income</th>\n",
              "    </tr>\n",
              "  </thead>\n",
              "  <tbody>\n",
              "    <tr>\n",
              "      <th>0</th>\n",
              "      <td>25</td>\n",
              "      <td>Private</td>\n",
              "      <td>226802</td>\n",
              "      <td>11th</td>\n",
              "      <td>7</td>\n",
              "      <td>Never-married</td>\n",
              "      <td>Machine-op-inspct</td>\n",
              "      <td>Own-child</td>\n",
              "      <td>Black</td>\n",
              "      <td>Male</td>\n",
              "      <td>0</td>\n",
              "      <td>0</td>\n",
              "      <td>40</td>\n",
              "      <td>United-States</td>\n",
              "      <td>&lt;=50K</td>\n",
              "    </tr>\n",
              "    <tr>\n",
              "      <th>1</th>\n",
              "      <td>38</td>\n",
              "      <td>Private</td>\n",
              "      <td>89814</td>\n",
              "      <td>HS-grad</td>\n",
              "      <td>9</td>\n",
              "      <td>Married-civ-spouse</td>\n",
              "      <td>Farming-fishing</td>\n",
              "      <td>Husband</td>\n",
              "      <td>White</td>\n",
              "      <td>Male</td>\n",
              "      <td>0</td>\n",
              "      <td>0</td>\n",
              "      <td>50</td>\n",
              "      <td>United-States</td>\n",
              "      <td>&lt;=50K</td>\n",
              "    </tr>\n",
              "    <tr>\n",
              "      <th>2</th>\n",
              "      <td>28</td>\n",
              "      <td>Local-gov</td>\n",
              "      <td>336951</td>\n",
              "      <td>Assoc-acdm</td>\n",
              "      <td>12</td>\n",
              "      <td>Married-civ-spouse</td>\n",
              "      <td>Protective-serv</td>\n",
              "      <td>Husband</td>\n",
              "      <td>White</td>\n",
              "      <td>Male</td>\n",
              "      <td>0</td>\n",
              "      <td>0</td>\n",
              "      <td>40</td>\n",
              "      <td>United-States</td>\n",
              "      <td>&gt;50K</td>\n",
              "    </tr>\n",
              "    <tr>\n",
              "      <th>3</th>\n",
              "      <td>44</td>\n",
              "      <td>Private</td>\n",
              "      <td>160323</td>\n",
              "      <td>Some-college</td>\n",
              "      <td>10</td>\n",
              "      <td>Married-civ-spouse</td>\n",
              "      <td>Machine-op-inspct</td>\n",
              "      <td>Husband</td>\n",
              "      <td>Black</td>\n",
              "      <td>Male</td>\n",
              "      <td>7688</td>\n",
              "      <td>0</td>\n",
              "      <td>40</td>\n",
              "      <td>United-States</td>\n",
              "      <td>&gt;50K</td>\n",
              "    </tr>\n",
              "    <tr>\n",
              "      <th>4</th>\n",
              "      <td>18</td>\n",
              "      <td>?</td>\n",
              "      <td>103497</td>\n",
              "      <td>Some-college</td>\n",
              "      <td>10</td>\n",
              "      <td>Never-married</td>\n",
              "      <td>?</td>\n",
              "      <td>Own-child</td>\n",
              "      <td>White</td>\n",
              "      <td>Female</td>\n",
              "      <td>0</td>\n",
              "      <td>0</td>\n",
              "      <td>30</td>\n",
              "      <td>United-States</td>\n",
              "      <td>&lt;=50K</td>\n",
              "    </tr>\n",
              "  </tbody>\n",
              "</table>\n",
              "</div>"
            ],
            "text/plain": [
              "   age  workclass  fnlwgt  ... hours-per-week  native-country income\n",
              "0   25    Private  226802  ...             40   United-States  <=50K\n",
              "1   38    Private   89814  ...             50   United-States  <=50K\n",
              "2   28  Local-gov  336951  ...             40   United-States   >50K\n",
              "3   44    Private  160323  ...             40   United-States   >50K\n",
              "4   18          ?  103497  ...             30   United-States  <=50K\n",
              "\n",
              "[5 rows x 15 columns]"
            ]
          },
          "metadata": {
            "tags": []
          },
          "execution_count": 3
        }
      ]
    },
    {
      "cell_type": "code",
      "metadata": {
        "colab": {
          "base_uri": "https://localhost:8080/"
        },
        "id": "broad-updating",
        "outputId": "944976a5-d912-4007-b0c6-9571917472b1"
      },
      "source": [
        "df_main.info() #Identification of data types"
      ],
      "id": "broad-updating",
      "execution_count": 4,
      "outputs": [
        {
          "output_type": "stream",
          "text": [
            "<class 'pandas.core.frame.DataFrame'>\n",
            "RangeIndex: 48842 entries, 0 to 48841\n",
            "Data columns (total 15 columns):\n",
            " #   Column           Non-Null Count  Dtype \n",
            "---  ------           --------------  ----- \n",
            " 0   age              48842 non-null  int64 \n",
            " 1   workclass        48842 non-null  object\n",
            " 2   fnlwgt           48842 non-null  int64 \n",
            " 3   education        48842 non-null  object\n",
            " 4   educational-num  48842 non-null  int64 \n",
            " 5   marital-status   48842 non-null  object\n",
            " 6   occupation       48842 non-null  object\n",
            " 7   relationship     48842 non-null  object\n",
            " 8   race             48842 non-null  object\n",
            " 9   gender           48842 non-null  object\n",
            " 10  capital-gain     48842 non-null  int64 \n",
            " 11  capital-loss     48842 non-null  int64 \n",
            " 12  hours-per-week   48842 non-null  int64 \n",
            " 13  native-country   48842 non-null  object\n",
            " 14  income           48842 non-null  object\n",
            "dtypes: int64(6), object(9)\n",
            "memory usage: 5.6+ MB\n"
          ],
          "name": "stdout"
        }
      ]
    },
    {
      "cell_type": "code",
      "metadata": {
        "colab": {
          "base_uri": "https://localhost:8080/"
        },
        "id": "ordinary-cooking",
        "outputId": "47446be2-8a8e-422c-ed89-e8e8cbb601ce"
      },
      "source": [
        "df_main.shape #Size of the dataset"
      ],
      "id": "ordinary-cooking",
      "execution_count": 5,
      "outputs": [
        {
          "output_type": "execute_result",
          "data": {
            "text/plain": [
              "(48842, 15)"
            ]
          },
          "metadata": {
            "tags": []
          },
          "execution_count": 5
        }
      ]
    },
    {
      "cell_type": "code",
      "metadata": {
        "colab": {
          "base_uri": "https://localhost:8080/",
          "height": 297
        },
        "id": "funky-jordan",
        "outputId": "b164f87b-f635-445b-ace3-a45e54fb3725"
      },
      "source": [
        "#numerical stats\n",
        "df_main.describe()"
      ],
      "id": "funky-jordan",
      "execution_count": 6,
      "outputs": [
        {
          "output_type": "execute_result",
          "data": {
            "text/html": [
              "<div>\n",
              "<style scoped>\n",
              "    .dataframe tbody tr th:only-of-type {\n",
              "        vertical-align: middle;\n",
              "    }\n",
              "\n",
              "    .dataframe tbody tr th {\n",
              "        vertical-align: top;\n",
              "    }\n",
              "\n",
              "    .dataframe thead th {\n",
              "        text-align: right;\n",
              "    }\n",
              "</style>\n",
              "<table border=\"1\" class=\"dataframe\">\n",
              "  <thead>\n",
              "    <tr style=\"text-align: right;\">\n",
              "      <th></th>\n",
              "      <th>age</th>\n",
              "      <th>fnlwgt</th>\n",
              "      <th>educational-num</th>\n",
              "      <th>capital-gain</th>\n",
              "      <th>capital-loss</th>\n",
              "      <th>hours-per-week</th>\n",
              "    </tr>\n",
              "  </thead>\n",
              "  <tbody>\n",
              "    <tr>\n",
              "      <th>count</th>\n",
              "      <td>48842.000000</td>\n",
              "      <td>4.884200e+04</td>\n",
              "      <td>48842.000000</td>\n",
              "      <td>48842.000000</td>\n",
              "      <td>48842.000000</td>\n",
              "      <td>48842.000000</td>\n",
              "    </tr>\n",
              "    <tr>\n",
              "      <th>mean</th>\n",
              "      <td>38.643585</td>\n",
              "      <td>1.896641e+05</td>\n",
              "      <td>10.078089</td>\n",
              "      <td>1079.067626</td>\n",
              "      <td>87.502314</td>\n",
              "      <td>40.422382</td>\n",
              "    </tr>\n",
              "    <tr>\n",
              "      <th>std</th>\n",
              "      <td>13.710510</td>\n",
              "      <td>1.056040e+05</td>\n",
              "      <td>2.570973</td>\n",
              "      <td>7452.019058</td>\n",
              "      <td>403.004552</td>\n",
              "      <td>12.391444</td>\n",
              "    </tr>\n",
              "    <tr>\n",
              "      <th>min</th>\n",
              "      <td>17.000000</td>\n",
              "      <td>1.228500e+04</td>\n",
              "      <td>1.000000</td>\n",
              "      <td>0.000000</td>\n",
              "      <td>0.000000</td>\n",
              "      <td>1.000000</td>\n",
              "    </tr>\n",
              "    <tr>\n",
              "      <th>25%</th>\n",
              "      <td>28.000000</td>\n",
              "      <td>1.175505e+05</td>\n",
              "      <td>9.000000</td>\n",
              "      <td>0.000000</td>\n",
              "      <td>0.000000</td>\n",
              "      <td>40.000000</td>\n",
              "    </tr>\n",
              "    <tr>\n",
              "      <th>50%</th>\n",
              "      <td>37.000000</td>\n",
              "      <td>1.781445e+05</td>\n",
              "      <td>10.000000</td>\n",
              "      <td>0.000000</td>\n",
              "      <td>0.000000</td>\n",
              "      <td>40.000000</td>\n",
              "    </tr>\n",
              "    <tr>\n",
              "      <th>75%</th>\n",
              "      <td>48.000000</td>\n",
              "      <td>2.376420e+05</td>\n",
              "      <td>12.000000</td>\n",
              "      <td>0.000000</td>\n",
              "      <td>0.000000</td>\n",
              "      <td>45.000000</td>\n",
              "    </tr>\n",
              "    <tr>\n",
              "      <th>max</th>\n",
              "      <td>90.000000</td>\n",
              "      <td>1.490400e+06</td>\n",
              "      <td>16.000000</td>\n",
              "      <td>99999.000000</td>\n",
              "      <td>4356.000000</td>\n",
              "      <td>99.000000</td>\n",
              "    </tr>\n",
              "  </tbody>\n",
              "</table>\n",
              "</div>"
            ],
            "text/plain": [
              "                age        fnlwgt  ...  capital-loss  hours-per-week\n",
              "count  48842.000000  4.884200e+04  ...  48842.000000    48842.000000\n",
              "mean      38.643585  1.896641e+05  ...     87.502314       40.422382\n",
              "std       13.710510  1.056040e+05  ...    403.004552       12.391444\n",
              "min       17.000000  1.228500e+04  ...      0.000000        1.000000\n",
              "25%       28.000000  1.175505e+05  ...      0.000000       40.000000\n",
              "50%       37.000000  1.781445e+05  ...      0.000000       40.000000\n",
              "75%       48.000000  2.376420e+05  ...      0.000000       45.000000\n",
              "max       90.000000  1.490400e+06  ...   4356.000000       99.000000\n",
              "\n",
              "[8 rows x 6 columns]"
            ]
          },
          "metadata": {
            "tags": []
          },
          "execution_count": 6
        }
      ]
    },
    {
      "cell_type": "markdown",
      "metadata": {
        "id": "computational-wrist"
      },
      "source": [
        "# Non-Graphical Univariate Analysis:"
      ],
      "id": "computational-wrist"
    },
    {
      "cell_type": "code",
      "metadata": {
        "id": "coral-meter"
      },
      "source": [
        "results=pd.DataFrame(df_main.value_counts())#To get the count of unique values"
      ],
      "id": "coral-meter",
      "execution_count": 7,
      "outputs": []
    },
    {
      "cell_type": "code",
      "metadata": {
        "colab": {
          "base_uri": "https://localhost:8080/",
          "height": 708
        },
        "id": "hearing-lucas",
        "outputId": "b33c36ea-f5f0-4b8c-f1cd-6962981acd5c"
      },
      "source": [
        "results"
      ],
      "id": "hearing-lucas",
      "execution_count": 8,
      "outputs": [
        {
          "output_type": "execute_result",
          "data": {
            "text/html": [
              "<div>\n",
              "<style scoped>\n",
              "    .dataframe tbody tr th:only-of-type {\n",
              "        vertical-align: middle;\n",
              "    }\n",
              "\n",
              "    .dataframe tbody tr th {\n",
              "        vertical-align: top;\n",
              "    }\n",
              "\n",
              "    .dataframe thead th {\n",
              "        text-align: right;\n",
              "    }\n",
              "</style>\n",
              "<table border=\"1\" class=\"dataframe\">\n",
              "  <thead>\n",
              "    <tr style=\"text-align: right;\">\n",
              "      <th></th>\n",
              "      <th></th>\n",
              "      <th></th>\n",
              "      <th></th>\n",
              "      <th></th>\n",
              "      <th></th>\n",
              "      <th></th>\n",
              "      <th></th>\n",
              "      <th></th>\n",
              "      <th></th>\n",
              "      <th></th>\n",
              "      <th></th>\n",
              "      <th></th>\n",
              "      <th></th>\n",
              "      <th></th>\n",
              "      <th>0</th>\n",
              "    </tr>\n",
              "    <tr>\n",
              "      <th>age</th>\n",
              "      <th>workclass</th>\n",
              "      <th>fnlwgt</th>\n",
              "      <th>education</th>\n",
              "      <th>educational-num</th>\n",
              "      <th>marital-status</th>\n",
              "      <th>occupation</th>\n",
              "      <th>relationship</th>\n",
              "      <th>race</th>\n",
              "      <th>gender</th>\n",
              "      <th>capital-gain</th>\n",
              "      <th>capital-loss</th>\n",
              "      <th>hours-per-week</th>\n",
              "      <th>native-country</th>\n",
              "      <th>income</th>\n",
              "      <th></th>\n",
              "    </tr>\n",
              "  </thead>\n",
              "  <tbody>\n",
              "    <tr>\n",
              "      <th>21</th>\n",
              "      <th>Private</th>\n",
              "      <th>243368</th>\n",
              "      <th>Preschool</th>\n",
              "      <th>1</th>\n",
              "      <th>Never-married</th>\n",
              "      <th>Farming-fishing</th>\n",
              "      <th>Not-in-family</th>\n",
              "      <th>White</th>\n",
              "      <th>Male</th>\n",
              "      <th>0</th>\n",
              "      <th>0</th>\n",
              "      <th>50</th>\n",
              "      <th>Mexico</th>\n",
              "      <th>&lt;=50K</th>\n",
              "      <td>3</td>\n",
              "    </tr>\n",
              "    <tr>\n",
              "      <th rowspan=\"2\" valign=\"top\">25</th>\n",
              "      <th rowspan=\"2\" valign=\"top\">Private</th>\n",
              "      <th>195994</th>\n",
              "      <th>1st-4th</th>\n",
              "      <th>2</th>\n",
              "      <th>Never-married</th>\n",
              "      <th>Priv-house-serv</th>\n",
              "      <th>Not-in-family</th>\n",
              "      <th>White</th>\n",
              "      <th>Female</th>\n",
              "      <th>0</th>\n",
              "      <th>0</th>\n",
              "      <th>40</th>\n",
              "      <th>Guatemala</th>\n",
              "      <th>&lt;=50K</th>\n",
              "      <td>3</td>\n",
              "    </tr>\n",
              "    <tr>\n",
              "      <th>308144</th>\n",
              "      <th>Bachelors</th>\n",
              "      <th>13</th>\n",
              "      <th>Never-married</th>\n",
              "      <th>Craft-repair</th>\n",
              "      <th>Not-in-family</th>\n",
              "      <th>White</th>\n",
              "      <th>Male</th>\n",
              "      <th>0</th>\n",
              "      <th>0</th>\n",
              "      <th>40</th>\n",
              "      <th>Mexico</th>\n",
              "      <th>&lt;=50K</th>\n",
              "      <td>3</td>\n",
              "    </tr>\n",
              "    <tr>\n",
              "      <th>43</th>\n",
              "      <th>Private</th>\n",
              "      <th>195258</th>\n",
              "      <th>HS-grad</th>\n",
              "      <th>9</th>\n",
              "      <th>Married-civ-spouse</th>\n",
              "      <th>Craft-repair</th>\n",
              "      <th>Husband</th>\n",
              "      <th>White</th>\n",
              "      <th>Male</th>\n",
              "      <th>0</th>\n",
              "      <th>0</th>\n",
              "      <th>40</th>\n",
              "      <th>United-States</th>\n",
              "      <th>&gt;50K</th>\n",
              "      <td>2</td>\n",
              "    </tr>\n",
              "    <tr>\n",
              "      <th>21</th>\n",
              "      <th>Private</th>\n",
              "      <th>250051</th>\n",
              "      <th>Some-college</th>\n",
              "      <th>10</th>\n",
              "      <th>Never-married</th>\n",
              "      <th>Prof-specialty</th>\n",
              "      <th>Own-child</th>\n",
              "      <th>White</th>\n",
              "      <th>Female</th>\n",
              "      <th>0</th>\n",
              "      <th>0</th>\n",
              "      <th>10</th>\n",
              "      <th>United-States</th>\n",
              "      <th>&lt;=50K</th>\n",
              "      <td>2</td>\n",
              "    </tr>\n",
              "    <tr>\n",
              "      <th>...</th>\n",
              "      <th>...</th>\n",
              "      <th>...</th>\n",
              "      <th>...</th>\n",
              "      <th>...</th>\n",
              "      <th>...</th>\n",
              "      <th>...</th>\n",
              "      <th>...</th>\n",
              "      <th>...</th>\n",
              "      <th>...</th>\n",
              "      <th>...</th>\n",
              "      <th>...</th>\n",
              "      <th>...</th>\n",
              "      <th>...</th>\n",
              "      <th>...</th>\n",
              "      <td>...</td>\n",
              "    </tr>\n",
              "    <tr>\n",
              "      <th rowspan=\"4\" valign=\"top\">44</th>\n",
              "      <th rowspan=\"4\" valign=\"top\">Private</th>\n",
              "      <th>159580</th>\n",
              "      <th>12th</th>\n",
              "      <th>8</th>\n",
              "      <th>Divorced</th>\n",
              "      <th>Transport-moving</th>\n",
              "      <th>Not-in-family</th>\n",
              "      <th>White</th>\n",
              "      <th>Female</th>\n",
              "      <th>0</th>\n",
              "      <th>0</th>\n",
              "      <th>40</th>\n",
              "      <th>United-States</th>\n",
              "      <th>&lt;=50K</th>\n",
              "      <td>1</td>\n",
              "    </tr>\n",
              "    <tr>\n",
              "      <th>159297</th>\n",
              "      <th>HS-grad</th>\n",
              "      <th>9</th>\n",
              "      <th>Married-civ-spouse</th>\n",
              "      <th>Exec-managerial</th>\n",
              "      <th>Wife</th>\n",
              "      <th>Asian-Pac-Islander</th>\n",
              "      <th>Female</th>\n",
              "      <th>0</th>\n",
              "      <th>0</th>\n",
              "      <th>40</th>\n",
              "      <th>?</th>\n",
              "      <th>&gt;50K</th>\n",
              "      <td>1</td>\n",
              "    </tr>\n",
              "    <tr>\n",
              "      <th>157765</th>\n",
              "      <th>HS-grad</th>\n",
              "      <th>9</th>\n",
              "      <th>Divorced</th>\n",
              "      <th>Machine-op-inspct</th>\n",
              "      <th>Not-in-family</th>\n",
              "      <th>White</th>\n",
              "      <th>Female</th>\n",
              "      <th>0</th>\n",
              "      <th>0</th>\n",
              "      <th>40</th>\n",
              "      <th>United-States</th>\n",
              "      <th>&lt;=50K</th>\n",
              "      <td>1</td>\n",
              "    </tr>\n",
              "    <tr>\n",
              "      <th>157614</th>\n",
              "      <th>HS-grad</th>\n",
              "      <th>9</th>\n",
              "      <th>Divorced</th>\n",
              "      <th>Sales</th>\n",
              "      <th>Own-child</th>\n",
              "      <th>White</th>\n",
              "      <th>Male</th>\n",
              "      <th>0</th>\n",
              "      <th>0</th>\n",
              "      <th>38</th>\n",
              "      <th>United-States</th>\n",
              "      <th>&lt;=50K</th>\n",
              "      <td>1</td>\n",
              "    </tr>\n",
              "    <tr>\n",
              "      <th>17</th>\n",
              "      <th>?</th>\n",
              "      <th>27251</th>\n",
              "      <th>11th</th>\n",
              "      <th>7</th>\n",
              "      <th>Widowed</th>\n",
              "      <th>?</th>\n",
              "      <th>Own-child</th>\n",
              "      <th>White</th>\n",
              "      <th>Male</th>\n",
              "      <th>0</th>\n",
              "      <th>0</th>\n",
              "      <th>40</th>\n",
              "      <th>United-States</th>\n",
              "      <th>&lt;=50K</th>\n",
              "      <td>1</td>\n",
              "    </tr>\n",
              "  </tbody>\n",
              "</table>\n",
              "<p>48790 rows × 1 columns</p>\n",
              "</div>"
            ],
            "text/plain": [
              "                                                                                                                                                                                               0\n",
              "age workclass fnlwgt education    educational-num marital-status     occupation        relationship  race               gender capital-gain capital-loss hours-per-week native-country income   \n",
              "21  Private   243368 Preschool    1               Never-married      Farming-fishing   Not-in-family White              Male   0            0            50             Mexico         <=50K   3\n",
              "25  Private   195994 1st-4th      2               Never-married      Priv-house-serv   Not-in-family White              Female 0            0            40             Guatemala      <=50K   3\n",
              "              308144 Bachelors    13              Never-married      Craft-repair      Not-in-family White              Male   0            0            40             Mexico         <=50K   3\n",
              "43  Private   195258 HS-grad      9               Married-civ-spouse Craft-repair      Husband       White              Male   0            0            40             United-States  >50K    2\n",
              "21  Private   250051 Some-college 10              Never-married      Prof-specialty    Own-child     White              Female 0            0            10             United-States  <=50K   2\n",
              "...                                                                                                                                                                                           ..\n",
              "44  Private   159580 12th         8               Divorced           Transport-moving  Not-in-family White              Female 0            0            40             United-States  <=50K   1\n",
              "              159297 HS-grad      9               Married-civ-spouse Exec-managerial   Wife          Asian-Pac-Islander Female 0            0            40             ?              >50K    1\n",
              "              157765 HS-grad      9               Divorced           Machine-op-inspct Not-in-family White              Female 0            0            40             United-States  <=50K   1\n",
              "              157614 HS-grad      9               Divorced           Sales             Own-child     White              Male   0            0            38             United-States  <=50K   1\n",
              "17  ?         27251  11th         7               Widowed            ?                 Own-child     White              Male   0            0            40             United-States  <=50K   1\n",
              "\n",
              "[48790 rows x 1 columns]"
            ]
          },
          "metadata": {
            "tags": []
          },
          "execution_count": 8
        }
      ]
    },
    {
      "cell_type": "code",
      "metadata": {
        "colab": {
          "base_uri": "https://localhost:8080/"
        },
        "id": "normal-seven",
        "outputId": "8314820b-8858-4c93-8ba6-f759af410836"
      },
      "source": [
        "#checking any duplicate values\n",
        "df_main.duplicated().any()"
      ],
      "id": "normal-seven",
      "execution_count": 9,
      "outputs": [
        {
          "output_type": "execute_result",
          "data": {
            "text/plain": [
              "True"
            ]
          },
          "metadata": {
            "tags": []
          },
          "execution_count": 9
        }
      ]
    },
    {
      "cell_type": "code",
      "metadata": {
        "id": "coral-pipeline"
      },
      "source": [
        "df=df_main.drop_duplicates()"
      ],
      "id": "coral-pipeline",
      "execution_count": 10,
      "outputs": []
    },
    {
      "cell_type": "code",
      "metadata": {
        "colab": {
          "base_uri": "https://localhost:8080/"
        },
        "id": "statewide-spelling",
        "outputId": "5a2dfb1e-0cbc-4e01-bae6-a352ccfcbff4"
      },
      "source": [
        "df.shape"
      ],
      "id": "statewide-spelling",
      "execution_count": 11,
      "outputs": [
        {
          "output_type": "execute_result",
          "data": {
            "text/plain": [
              "(48790, 15)"
            ]
          },
          "metadata": {
            "tags": []
          },
          "execution_count": 11
        }
      ]
    },
    {
      "cell_type": "markdown",
      "metadata": {
        "id": "possible-volunteer"
      },
      "source": [
        "# To get the list & number of unique values:"
      ],
      "id": "possible-volunteer"
    },
    {
      "cell_type": "code",
      "metadata": {
        "id": "brief-silver"
      },
      "source": [
        "results2=pd.DataFrame(df_main.nunique())#To get the unique values"
      ],
      "id": "brief-silver",
      "execution_count": 12,
      "outputs": []
    },
    {
      "cell_type": "code",
      "metadata": {
        "colab": {
          "base_uri": "https://localhost:8080/",
          "height": 514
        },
        "id": "religious-confidentiality",
        "outputId": "ffca1cfb-3100-4b8e-aae0-774802acaf1a"
      },
      "source": [
        "results2"
      ],
      "id": "religious-confidentiality",
      "execution_count": 13,
      "outputs": [
        {
          "output_type": "execute_result",
          "data": {
            "text/html": [
              "<div>\n",
              "<style scoped>\n",
              "    .dataframe tbody tr th:only-of-type {\n",
              "        vertical-align: middle;\n",
              "    }\n",
              "\n",
              "    .dataframe tbody tr th {\n",
              "        vertical-align: top;\n",
              "    }\n",
              "\n",
              "    .dataframe thead th {\n",
              "        text-align: right;\n",
              "    }\n",
              "</style>\n",
              "<table border=\"1\" class=\"dataframe\">\n",
              "  <thead>\n",
              "    <tr style=\"text-align: right;\">\n",
              "      <th></th>\n",
              "      <th>0</th>\n",
              "    </tr>\n",
              "  </thead>\n",
              "  <tbody>\n",
              "    <tr>\n",
              "      <th>age</th>\n",
              "      <td>74</td>\n",
              "    </tr>\n",
              "    <tr>\n",
              "      <th>workclass</th>\n",
              "      <td>9</td>\n",
              "    </tr>\n",
              "    <tr>\n",
              "      <th>fnlwgt</th>\n",
              "      <td>28523</td>\n",
              "    </tr>\n",
              "    <tr>\n",
              "      <th>education</th>\n",
              "      <td>16</td>\n",
              "    </tr>\n",
              "    <tr>\n",
              "      <th>educational-num</th>\n",
              "      <td>16</td>\n",
              "    </tr>\n",
              "    <tr>\n",
              "      <th>marital-status</th>\n",
              "      <td>7</td>\n",
              "    </tr>\n",
              "    <tr>\n",
              "      <th>occupation</th>\n",
              "      <td>15</td>\n",
              "    </tr>\n",
              "    <tr>\n",
              "      <th>relationship</th>\n",
              "      <td>6</td>\n",
              "    </tr>\n",
              "    <tr>\n",
              "      <th>race</th>\n",
              "      <td>5</td>\n",
              "    </tr>\n",
              "    <tr>\n",
              "      <th>gender</th>\n",
              "      <td>2</td>\n",
              "    </tr>\n",
              "    <tr>\n",
              "      <th>capital-gain</th>\n",
              "      <td>123</td>\n",
              "    </tr>\n",
              "    <tr>\n",
              "      <th>capital-loss</th>\n",
              "      <td>99</td>\n",
              "    </tr>\n",
              "    <tr>\n",
              "      <th>hours-per-week</th>\n",
              "      <td>96</td>\n",
              "    </tr>\n",
              "    <tr>\n",
              "      <th>native-country</th>\n",
              "      <td>42</td>\n",
              "    </tr>\n",
              "    <tr>\n",
              "      <th>income</th>\n",
              "      <td>2</td>\n",
              "    </tr>\n",
              "  </tbody>\n",
              "</table>\n",
              "</div>"
            ],
            "text/plain": [
              "                     0\n",
              "age                 74\n",
              "workclass            9\n",
              "fnlwgt           28523\n",
              "education           16\n",
              "educational-num     16\n",
              "marital-status       7\n",
              "occupation          15\n",
              "relationship         6\n",
              "race                 5\n",
              "gender               2\n",
              "capital-gain       123\n",
              "capital-loss        99\n",
              "hours-per-week      96\n",
              "native-country      42\n",
              "income               2"
            ]
          },
          "metadata": {
            "tags": []
          },
          "execution_count": 13
        }
      ]
    },
    {
      "cell_type": "code",
      "metadata": {
        "colab": {
          "base_uri": "https://localhost:8080/"
        },
        "id": "little-entrepreneur",
        "outputId": "8f726145-4ce4-4aff-aa53-d5197057dfa1"
      },
      "source": [
        "#missing values\n",
        "df_main.isna().sum()"
      ],
      "id": "little-entrepreneur",
      "execution_count": 14,
      "outputs": [
        {
          "output_type": "execute_result",
          "data": {
            "text/plain": [
              "age                0\n",
              "workclass          0\n",
              "fnlwgt             0\n",
              "education          0\n",
              "educational-num    0\n",
              "marital-status     0\n",
              "occupation         0\n",
              "relationship       0\n",
              "race               0\n",
              "gender             0\n",
              "capital-gain       0\n",
              "capital-loss       0\n",
              "hours-per-week     0\n",
              "native-country     0\n",
              "income             0\n",
              "dtype: int64"
            ]
          },
          "metadata": {
            "tags": []
          },
          "execution_count": 14
        }
      ]
    },
    {
      "cell_type": "markdown",
      "metadata": {
        "id": "defensive-lover"
      },
      "source": [
        "# Data Preprocessing"
      ],
      "id": "defensive-lover"
    },
    {
      "cell_type": "code",
      "metadata": {
        "colab": {
          "base_uri": "https://localhost:8080/"
        },
        "id": "primary-citizenship",
        "outputId": "2afb2e01-b3fc-4893-b742-f8fbafc00c6d"
      },
      "source": [
        "df_main.isin(['?']).sum()"
      ],
      "id": "primary-citizenship",
      "execution_count": 15,
      "outputs": [
        {
          "output_type": "execute_result",
          "data": {
            "text/plain": [
              "age                   0\n",
              "workclass          2799\n",
              "fnlwgt                0\n",
              "education             0\n",
              "educational-num       0\n",
              "marital-status        0\n",
              "occupation         2809\n",
              "relationship          0\n",
              "race                  0\n",
              "gender                0\n",
              "capital-gain          0\n",
              "capital-loss          0\n",
              "hours-per-week        0\n",
              "native-country      857\n",
              "income                0\n",
              "dtype: int64"
            ]
          },
          "metadata": {
            "tags": []
          },
          "execution_count": 15
        }
      ]
    },
    {
      "cell_type": "code",
      "metadata": {
        "id": "sacred-carolina"
      },
      "source": [
        "df_main =df_main.replace('?', np.NaN)"
      ],
      "id": "sacred-carolina",
      "execution_count": 16,
      "outputs": []
    },
    {
      "cell_type": "code",
      "metadata": {
        "colab": {
          "base_uri": "https://localhost:8080/",
          "height": 394
        },
        "id": "modular-garage",
        "outputId": "b4ece99e-c6c1-47d6-eab4-48aef32afa95"
      },
      "source": [
        "df_main.head()"
      ],
      "id": "modular-garage",
      "execution_count": 17,
      "outputs": [
        {
          "output_type": "execute_result",
          "data": {
            "text/html": [
              "<div>\n",
              "<style scoped>\n",
              "    .dataframe tbody tr th:only-of-type {\n",
              "        vertical-align: middle;\n",
              "    }\n",
              "\n",
              "    .dataframe tbody tr th {\n",
              "        vertical-align: top;\n",
              "    }\n",
              "\n",
              "    .dataframe thead th {\n",
              "        text-align: right;\n",
              "    }\n",
              "</style>\n",
              "<table border=\"1\" class=\"dataframe\">\n",
              "  <thead>\n",
              "    <tr style=\"text-align: right;\">\n",
              "      <th></th>\n",
              "      <th>age</th>\n",
              "      <th>workclass</th>\n",
              "      <th>fnlwgt</th>\n",
              "      <th>education</th>\n",
              "      <th>educational-num</th>\n",
              "      <th>marital-status</th>\n",
              "      <th>occupation</th>\n",
              "      <th>relationship</th>\n",
              "      <th>race</th>\n",
              "      <th>gender</th>\n",
              "      <th>capital-gain</th>\n",
              "      <th>capital-loss</th>\n",
              "      <th>hours-per-week</th>\n",
              "      <th>native-country</th>\n",
              "      <th>income</th>\n",
              "    </tr>\n",
              "  </thead>\n",
              "  <tbody>\n",
              "    <tr>\n",
              "      <th>0</th>\n",
              "      <td>25</td>\n",
              "      <td>Private</td>\n",
              "      <td>226802</td>\n",
              "      <td>11th</td>\n",
              "      <td>7</td>\n",
              "      <td>Never-married</td>\n",
              "      <td>Machine-op-inspct</td>\n",
              "      <td>Own-child</td>\n",
              "      <td>Black</td>\n",
              "      <td>Male</td>\n",
              "      <td>0</td>\n",
              "      <td>0</td>\n",
              "      <td>40</td>\n",
              "      <td>United-States</td>\n",
              "      <td>&lt;=50K</td>\n",
              "    </tr>\n",
              "    <tr>\n",
              "      <th>1</th>\n",
              "      <td>38</td>\n",
              "      <td>Private</td>\n",
              "      <td>89814</td>\n",
              "      <td>HS-grad</td>\n",
              "      <td>9</td>\n",
              "      <td>Married-civ-spouse</td>\n",
              "      <td>Farming-fishing</td>\n",
              "      <td>Husband</td>\n",
              "      <td>White</td>\n",
              "      <td>Male</td>\n",
              "      <td>0</td>\n",
              "      <td>0</td>\n",
              "      <td>50</td>\n",
              "      <td>United-States</td>\n",
              "      <td>&lt;=50K</td>\n",
              "    </tr>\n",
              "    <tr>\n",
              "      <th>2</th>\n",
              "      <td>28</td>\n",
              "      <td>Local-gov</td>\n",
              "      <td>336951</td>\n",
              "      <td>Assoc-acdm</td>\n",
              "      <td>12</td>\n",
              "      <td>Married-civ-spouse</td>\n",
              "      <td>Protective-serv</td>\n",
              "      <td>Husband</td>\n",
              "      <td>White</td>\n",
              "      <td>Male</td>\n",
              "      <td>0</td>\n",
              "      <td>0</td>\n",
              "      <td>40</td>\n",
              "      <td>United-States</td>\n",
              "      <td>&gt;50K</td>\n",
              "    </tr>\n",
              "    <tr>\n",
              "      <th>3</th>\n",
              "      <td>44</td>\n",
              "      <td>Private</td>\n",
              "      <td>160323</td>\n",
              "      <td>Some-college</td>\n",
              "      <td>10</td>\n",
              "      <td>Married-civ-spouse</td>\n",
              "      <td>Machine-op-inspct</td>\n",
              "      <td>Husband</td>\n",
              "      <td>Black</td>\n",
              "      <td>Male</td>\n",
              "      <td>7688</td>\n",
              "      <td>0</td>\n",
              "      <td>40</td>\n",
              "      <td>United-States</td>\n",
              "      <td>&gt;50K</td>\n",
              "    </tr>\n",
              "    <tr>\n",
              "      <th>4</th>\n",
              "      <td>18</td>\n",
              "      <td>NaN</td>\n",
              "      <td>103497</td>\n",
              "      <td>Some-college</td>\n",
              "      <td>10</td>\n",
              "      <td>Never-married</td>\n",
              "      <td>NaN</td>\n",
              "      <td>Own-child</td>\n",
              "      <td>White</td>\n",
              "      <td>Female</td>\n",
              "      <td>0</td>\n",
              "      <td>0</td>\n",
              "      <td>30</td>\n",
              "      <td>United-States</td>\n",
              "      <td>&lt;=50K</td>\n",
              "    </tr>\n",
              "  </tbody>\n",
              "</table>\n",
              "</div>"
            ],
            "text/plain": [
              "   age  workclass  fnlwgt  ... hours-per-week  native-country income\n",
              "0   25    Private  226802  ...             40   United-States  <=50K\n",
              "1   38    Private   89814  ...             50   United-States  <=50K\n",
              "2   28  Local-gov  336951  ...             40   United-States   >50K\n",
              "3   44    Private  160323  ...             40   United-States   >50K\n",
              "4   18        NaN  103497  ...             30   United-States  <=50K\n",
              "\n",
              "[5 rows x 15 columns]"
            ]
          },
          "metadata": {
            "tags": []
          },
          "execution_count": 17
        }
      ]
    },
    {
      "cell_type": "code",
      "metadata": {
        "colab": {
          "base_uri": "https://localhost:8080/"
        },
        "id": "filled-spending",
        "outputId": "6664642a-daf5-4b96-c15d-0074e14d729f"
      },
      "source": [
        "#Checking null values:\n",
        "df_main.isnull().sum()"
      ],
      "id": "filled-spending",
      "execution_count": 18,
      "outputs": [
        {
          "output_type": "execute_result",
          "data": {
            "text/plain": [
              "age                   0\n",
              "workclass          2799\n",
              "fnlwgt                0\n",
              "education             0\n",
              "educational-num       0\n",
              "marital-status        0\n",
              "occupation         2809\n",
              "relationship          0\n",
              "race                  0\n",
              "gender                0\n",
              "capital-gain          0\n",
              "capital-loss          0\n",
              "hours-per-week        0\n",
              "native-country      857\n",
              "income                0\n",
              "dtype: int64"
            ]
          },
          "metadata": {
            "tags": []
          },
          "execution_count": 18
        }
      ]
    },
    {
      "cell_type": "code",
      "metadata": {
        "colab": {
          "base_uri": "https://localhost:8080/",
          "height": 372
        },
        "id": "periodic-repository",
        "outputId": "dcd6758a-4121-4c0d-c548-e3e8b591fe07"
      },
      "source": [
        "sns.heatmap(df_main.isnull())"
      ],
      "id": "periodic-repository",
      "execution_count": 19,
      "outputs": [
        {
          "output_type": "execute_result",
          "data": {
            "text/plain": [
              "<matplotlib.axes._subplots.AxesSubplot at 0x7fcaddd6e8d0>"
            ]
          },
          "metadata": {
            "tags": []
          },
          "execution_count": 19
        },
        {
          "output_type": "display_data",
          "data": {
            "image/png": "[encoded data removed]",
            "text/plain": [
              "<Figure size 432x288 with 2 Axes>"
            ]
          },
          "metadata": {
            "tags": [],
            "needs_background": "light"
          }
        }
      ]
    },
    {
      "cell_type": "code",
      "metadata": {
        "colab": {
          "base_uri": "https://localhost:8080/"
        },
        "id": "impressed-michigan",
        "outputId": "5a278ed3-145b-45f9-d382-555f654d8423"
      },
      "source": [
        "#checking the percentage of missing values\n",
        "print('% of missing values: ', (df_main.isnull().sum()*100/len(df_main)))"
      ],
      "id": "impressed-michigan",
      "execution_count": 20,
      "outputs": [
        {
          "output_type": "stream",
          "text": [
            "% of missing values:  age                0.000000\n",
            "workclass          5.730724\n",
            "fnlwgt             0.000000\n",
            "education          0.000000\n",
            "educational-num    0.000000\n",
            "marital-status     0.000000\n",
            "occupation         5.751198\n",
            "relationship       0.000000\n",
            "race               0.000000\n",
            "gender             0.000000\n",
            "capital-gain       0.000000\n",
            "capital-loss       0.000000\n",
            "hours-per-week     0.000000\n",
            "native-country     1.754637\n",
            "income             0.000000\n",
            "dtype: float64\n"
          ],
          "name": "stdout"
        }
      ]
    },
    {
      "cell_type": "code",
      "metadata": {
        "colab": {
          "base_uri": "https://localhost:8080/"
        },
        "id": "usual-active",
        "outputId": "d5e1cf6d-018d-45fe-a417-e93a972ef851"
      },
      "source": [
        "#filter out the column which has most number of zero values.\n",
        "(df_main == 0).sum(axis=0)"
      ],
      "id": "usual-active",
      "execution_count": 21,
      "outputs": [
        {
          "output_type": "execute_result",
          "data": {
            "text/plain": [
              "age                    0\n",
              "workclass              0\n",
              "fnlwgt                 0\n",
              "education              0\n",
              "educational-num        0\n",
              "marital-status         0\n",
              "occupation             0\n",
              "relationship           0\n",
              "race                   0\n",
              "gender                 0\n",
              "capital-gain       44807\n",
              "capital-loss       46560\n",
              "hours-per-week         0\n",
              "native-country         0\n",
              "income                 0\n",
              "dtype: int64"
            ]
          },
          "metadata": {
            "tags": []
          },
          "execution_count": 21
        }
      ]
    },
    {
      "cell_type": "code",
      "metadata": {
        "id": "armed-september"
      },
      "source": [
        "data_main=df_main.drop(['capital-gain', 'capital-loss'], axis = 1)"
      ],
      "id": "armed-september",
      "execution_count": 22,
      "outputs": []
    },
    {
      "cell_type": "code",
      "metadata": {
        "colab": {
          "base_uri": "https://localhost:8080/",
          "height": 745
        },
        "id": "freelance-suspension",
        "outputId": "717a42ec-e8a5-4693-e7d5-3a5f98b34695"
      },
      "source": [
        "data_main"
      ],
      "id": "freelance-suspension",
      "execution_count": 23,
      "outputs": [
        {
          "output_type": "execute_result",
          "data": {
            "text/html": [
              "<div>\n",
              "<style scoped>\n",
              "    .dataframe tbody tr th:only-of-type {\n",
              "        vertical-align: middle;\n",
              "    }\n",
              "\n",
              "    .dataframe tbody tr th {\n",
              "        vertical-align: top;\n",
              "    }\n",
              "\n",
              "    .dataframe thead th {\n",
              "        text-align: right;\n",
              "    }\n",
              "</style>\n",
              "<table border=\"1\" class=\"dataframe\">\n",
              "  <thead>\n",
              "    <tr style=\"text-align: right;\">\n",
              "      <th></th>\n",
              "      <th>age</th>\n",
              "      <th>workclass</th>\n",
              "      <th>fnlwgt</th>\n",
              "      <th>education</th>\n",
              "      <th>educational-num</th>\n",
              "      <th>marital-status</th>\n",
              "      <th>occupation</th>\n",
              "      <th>relationship</th>\n",
              "      <th>race</th>\n",
              "      <th>gender</th>\n",
              "      <th>hours-per-week</th>\n",
              "      <th>native-country</th>\n",
              "      <th>income</th>\n",
              "    </tr>\n",
              "  </thead>\n",
              "  <tbody>\n",
              "    <tr>\n",
              "      <th>0</th>\n",
              "      <td>25</td>\n",
              "      <td>Private</td>\n",
              "      <td>226802</td>\n",
              "      <td>11th</td>\n",
              "      <td>7</td>\n",
              "      <td>Never-married</td>\n",
              "      <td>Machine-op-inspct</td>\n",
              "      <td>Own-child</td>\n",
              "      <td>Black</td>\n",
              "      <td>Male</td>\n",
              "      <td>40</td>\n",
              "      <td>United-States</td>\n",
              "      <td>&lt;=50K</td>\n",
              "    </tr>\n",
              "    <tr>\n",
              "      <th>1</th>\n",
              "      <td>38</td>\n",
              "      <td>Private</td>\n",
              "      <td>89814</td>\n",
              "      <td>HS-grad</td>\n",
              "      <td>9</td>\n",
              "      <td>Married-civ-spouse</td>\n",
              "      <td>Farming-fishing</td>\n",
              "      <td>Husband</td>\n",
              "      <td>White</td>\n",
              "      <td>Male</td>\n",
              "      <td>50</td>\n",
              "      <td>United-States</td>\n",
              "      <td>&lt;=50K</td>\n",
              "    </tr>\n",
              "    <tr>\n",
              "      <th>2</th>\n",
              "      <td>28</td>\n",
              "      <td>Local-gov</td>\n",
              "      <td>336951</td>\n",
              "      <td>Assoc-acdm</td>\n",
              "      <td>12</td>\n",
              "      <td>Married-civ-spouse</td>\n",
              "      <td>Protective-serv</td>\n",
              "      <td>Husband</td>\n",
              "      <td>White</td>\n",
              "      <td>Male</td>\n",
              "      <td>40</td>\n",
              "      <td>United-States</td>\n",
              "      <td>&gt;50K</td>\n",
              "    </tr>\n",
              "    <tr>\n",
              "      <th>3</th>\n",
              "      <td>44</td>\n",
              "      <td>Private</td>\n",
              "      <td>160323</td>\n",
              "      <td>Some-college</td>\n",
              "      <td>10</td>\n",
              "      <td>Married-civ-spouse</td>\n",
              "      <td>Machine-op-inspct</td>\n",
              "      <td>Husband</td>\n",
              "      <td>Black</td>\n",
              "      <td>Male</td>\n",
              "      <td>40</td>\n",
              "      <td>United-States</td>\n",
              "      <td>&gt;50K</td>\n",
              "    </tr>\n",
              "    <tr>\n",
              "      <th>4</th>\n",
              "      <td>18</td>\n",
              "      <td>NaN</td>\n",
              "      <td>103497</td>\n",
              "      <td>Some-college</td>\n",
              "      <td>10</td>\n",
              "      <td>Never-married</td>\n",
              "      <td>NaN</td>\n",
              "      <td>Own-child</td>\n",
              "      <td>White</td>\n",
              "      <td>Female</td>\n",
              "      <td>30</td>\n",
              "      <td>United-States</td>\n",
              "      <td>&lt;=50K</td>\n",
              "    </tr>\n",
              "    <tr>\n",
              "      <th>...</th>\n",
              "      <td>...</td>\n",
              "      <td>...</td>\n",
              "      <td>...</td>\n",
              "      <td>...</td>\n",
              "      <td>...</td>\n",
              "      <td>...</td>\n",
              "      <td>...</td>\n",
              "      <td>...</td>\n",
              "      <td>...</td>\n",
              "      <td>...</td>\n",
              "      <td>...</td>\n",
              "      <td>...</td>\n",
              "      <td>...</td>\n",
              "    </tr>\n",
              "    <tr>\n",
              "      <th>48837</th>\n",
              "      <td>27</td>\n",
              "      <td>Private</td>\n",
              "      <td>257302</td>\n",
              "      <td>Assoc-acdm</td>\n",
              "      <td>12</td>\n",
              "      <td>Married-civ-spouse</td>\n",
              "      <td>Tech-support</td>\n",
              "      <td>Wife</td>\n",
              "      <td>White</td>\n",
              "      <td>Female</td>\n",
              "      <td>38</td>\n",
              "      <td>United-States</td>\n",
              "      <td>&lt;=50K</td>\n",
              "    </tr>\n",
              "    <tr>\n",
              "      <th>48838</th>\n",
              "      <td>40</td>\n",
              "      <td>Private</td>\n",
              "      <td>154374</td>\n",
              "      <td>HS-grad</td>\n",
              "      <td>9</td>\n",
              "      <td>Married-civ-spouse</td>\n",
              "      <td>Machine-op-inspct</td>\n",
              "      <td>Husband</td>\n",
              "      <td>White</td>\n",
              "      <td>Male</td>\n",
              "      <td>40</td>\n",
              "      <td>United-States</td>\n",
              "      <td>&gt;50K</td>\n",
              "    </tr>\n",
              "    <tr>\n",
              "      <th>48839</th>\n",
              "      <td>58</td>\n",
              "      <td>Private</td>\n",
              "      <td>151910</td>\n",
              "      <td>HS-grad</td>\n",
              "      <td>9</td>\n",
              "      <td>Widowed</td>\n",
              "      <td>Adm-clerical</td>\n",
              "      <td>Unmarried</td>\n",
              "      <td>White</td>\n",
              "      <td>Female</td>\n",
              "      <td>40</td>\n",
              "      <td>United-States</td>\n",
              "      <td>&lt;=50K</td>\n",
              "    </tr>\n",
              "    <tr>\n",
              "      <th>48840</th>\n",
              "      <td>22</td>\n",
              "      <td>Private</td>\n",
              "      <td>201490</td>\n",
              "      <td>HS-grad</td>\n",
              "      <td>9</td>\n",
              "      <td>Never-married</td>\n",
              "      <td>Adm-clerical</td>\n",
              "      <td>Own-child</td>\n",
              "      <td>White</td>\n",
              "      <td>Male</td>\n",
              "      <td>20</td>\n",
              "      <td>United-States</td>\n",
              "      <td>&lt;=50K</td>\n",
              "    </tr>\n",
              "    <tr>\n",
              "      <th>48841</th>\n",
              "      <td>52</td>\n",
              "      <td>Self-emp-inc</td>\n",
              "      <td>287927</td>\n",
              "      <td>HS-grad</td>\n",
              "      <td>9</td>\n",
              "      <td>Married-civ-spouse</td>\n",
              "      <td>Exec-managerial</td>\n",
              "      <td>Wife</td>\n",
              "      <td>White</td>\n",
              "      <td>Female</td>\n",
              "      <td>40</td>\n",
              "      <td>United-States</td>\n",
              "      <td>&gt;50K</td>\n",
              "    </tr>\n",
              "  </tbody>\n",
              "</table>\n",
              "<p>48842 rows × 13 columns</p>\n",
              "</div>"
            ],
            "text/plain": [
              "       age     workclass  fnlwgt  ... hours-per-week  native-country income\n",
              "0       25       Private  226802  ...             40   United-States  <=50K\n",
              "1       38       Private   89814  ...             50   United-States  <=50K\n",
              "2       28     Local-gov  336951  ...             40   United-States   >50K\n",
              "3       44       Private  160323  ...             40   United-States   >50K\n",
              "4       18           NaN  103497  ...             30   United-States  <=50K\n",
              "...    ...           ...     ...  ...            ...             ...    ...\n",
              "48837   27       Private  257302  ...             38   United-States  <=50K\n",
              "48838   40       Private  154374  ...             40   United-States   >50K\n",
              "48839   58       Private  151910  ...             40   United-States  <=50K\n",
              "48840   22       Private  201490  ...             20   United-States  <=50K\n",
              "48841   52  Self-emp-inc  287927  ...             40   United-States   >50K\n",
              "\n",
              "[48842 rows x 13 columns]"
            ]
          },
          "metadata": {
            "tags": []
          },
          "execution_count": 23
        }
      ]
    },
    {
      "cell_type": "code",
      "metadata": {
        "colab": {
          "base_uri": "https://localhost:8080/"
        },
        "id": "enormous-auckland",
        "outputId": "4290fbb0-f619-4e6d-ca35-a21ac42fac44"
      },
      "source": [
        "data_main.columns"
      ],
      "id": "enormous-auckland",
      "execution_count": 24,
      "outputs": [
        {
          "output_type": "execute_result",
          "data": {
            "text/plain": [
              "Index(['age', 'workclass', 'fnlwgt', 'education', 'educational-num',\n",
              "       'marital-status', 'occupation', 'relationship', 'race', 'gender',\n",
              "       'hours-per-week', 'native-country', 'income'],\n",
              "      dtype='object')"
            ]
          },
          "metadata": {
            "tags": []
          },
          "execution_count": 24
        }
      ]
    },
    {
      "cell_type": "markdown",
      "metadata": {
        "id": "danish-dallas"
      },
      "source": [
        "# Graphical Univariate Analysis:"
      ],
      "id": "danish-dallas"
    },
    {
      "cell_type": "code",
      "metadata": {
        "colab": {
          "base_uri": "https://localhost:8080/",
          "height": 184
        },
        "id": "personal-steps",
        "scrolled": true,
        "outputId": "5676fece-924e-49f0-8859-ed5399213400"
      },
      "source": [
        "cat_cols = ['workclass','education','marital-status','occupation','relationship','race','gender','native-country', 'income']\n",
        "i=0\n",
        "while i < 9:\n",
        "    fig = plt.figure(figsize=[80,4])\n",
        "    #ax1 = fig.add_subplot(121)\n",
        "    #ax2 = fig.add_subplot(122)\n",
        "    \n",
        "    #ax1.title.set_text(cat_cols[i])\n",
        "    plt.subplot(1,3,1)\n",
        "    sns.countplot(x=cat_cols[i], data=data_main)\n",
        "    i += 1\n",
        "    \n",
        "    #ax2.title.set_text(cat_cols[i])\n",
        "    plt.subplot(1,3,2)\n",
        "    sns.countplot(x=cat_cols[i], data=data_main)\n",
        "    i += 1\n",
        "    \n",
        "    #ax3.title.set_text(cat_cols[i])\n",
        "    plt.subplot(1,3,3)\n",
        "    sns.countplot(x=cat_cols[i], data=data_main)\n",
        "    i += 1\n",
        "    \n",
        "    plt.show()"
      ],
      "id": "personal-steps",
      "execution_count": 25,
      "outputs": [
        {
          "output_type": "display_data",
          "data": {
            "image/png": "[encoded data removed]",
            "text/plain": [
              "<Figure size 5760x288 with 3 Axes>"
            ]
          },
          "metadata": {
            "tags": [],
            "needs_background": "light"
          }
        },
        {
          "output_type": "display_data",
          "data": {
            "image/png": "[encoded data removed]",
            "text/plain": [
              "<Figure size 5760x288 with 3 Axes>"
            ]
          },
          "metadata": {
            "tags": [],
            "needs_background": "light"
          }
        },
        {
          "output_type": "display_data",
          "data": {
            "image/png": "[encoded data removed]",
            "text/plain": [
              "<Figure size 5760x288 with 3 Axes>"
            ]
          },
          "metadata": {
            "tags": [],
            "needs_background": "light"
          }
        }
      ]
    },
    {
      "cell_type": "code",
      "metadata": {
        "id": "wrapped-association"
      },
      "source": [
        "# replacing zero values with the mode of the column\n",
        "for col in ['workclass', 'occupation', 'native-country']:\n",
        "        data_main[col].fillna(data_main[col].mode()[0], inplace=True)"
      ],
      "id": "wrapped-association",
      "execution_count": 26,
      "outputs": []
    },
    {
      "cell_type": "code",
      "metadata": {
        "colab": {
          "base_uri": "https://localhost:8080/",
          "height": 394
        },
        "id": "incomplete-cement",
        "outputId": "78777831-ea18-4c9c-9dd4-55187a64afc4"
      },
      "source": [
        "data_main.head()"
      ],
      "id": "incomplete-cement",
      "execution_count": null,
      "outputs": [
        {
          "output_type": "execute_result",
          "data": {
            "text/html": [
              "<div>\n",
              "<style scoped>\n",
              "    .dataframe tbody tr th:only-of-type {\n",
              "        vertical-align: middle;\n",
              "    }\n",
              "\n",
              "    .dataframe tbody tr th {\n",
              "        vertical-align: top;\n",
              "    }\n",
              "\n",
              "    .dataframe thead th {\n",
              "        text-align: right;\n",
              "    }\n",
              "</style>\n",
              "<table border=\"1\" class=\"dataframe\">\n",
              "  <thead>\n",
              "    <tr style=\"text-align: right;\">\n",
              "      <th></th>\n",
              "      <th>age</th>\n",
              "      <th>workclass</th>\n",
              "      <th>fnlwgt</th>\n",
              "      <th>education</th>\n",
              "      <th>educational-num</th>\n",
              "      <th>marital-status</th>\n",
              "      <th>occupation</th>\n",
              "      <th>relationship</th>\n",
              "      <th>race</th>\n",
              "      <th>gender</th>\n",
              "      <th>hours-per-week</th>\n",
              "      <th>native-country</th>\n",
              "      <th>income</th>\n",
              "    </tr>\n",
              "  </thead>\n",
              "  <tbody>\n",
              "    <tr>\n",
              "      <th>0</th>\n",
              "      <td>25</td>\n",
              "      <td>Private</td>\n",
              "      <td>226802</td>\n",
              "      <td>11th</td>\n",
              "      <td>7</td>\n",
              "      <td>Never-married</td>\n",
              "      <td>Machine-op-inspct</td>\n",
              "      <td>Own-child</td>\n",
              "      <td>Black</td>\n",
              "      <td>Male</td>\n",
              "      <td>40</td>\n",
              "      <td>United-States</td>\n",
              "      <td>&lt;=50K</td>\n",
              "    </tr>\n",
              "    <tr>\n",
              "      <th>1</th>\n",
              "      <td>38</td>\n",
              "      <td>Private</td>\n",
              "      <td>89814</td>\n",
              "      <td>HS-grad</td>\n",
              "      <td>9</td>\n",
              "      <td>Married-civ-spouse</td>\n",
              "      <td>Farming-fishing</td>\n",
              "      <td>Husband</td>\n",
              "      <td>White</td>\n",
              "      <td>Male</td>\n",
              "      <td>50</td>\n",
              "      <td>United-States</td>\n",
              "      <td>&lt;=50K</td>\n",
              "    </tr>\n",
              "    <tr>\n",
              "      <th>2</th>\n",
              "      <td>28</td>\n",
              "      <td>Local-gov</td>\n",
              "      <td>336951</td>\n",
              "      <td>Assoc-acdm</td>\n",
              "      <td>12</td>\n",
              "      <td>Married-civ-spouse</td>\n",
              "      <td>Protective-serv</td>\n",
              "      <td>Husband</td>\n",
              "      <td>White</td>\n",
              "      <td>Male</td>\n",
              "      <td>40</td>\n",
              "      <td>United-States</td>\n",
              "      <td>&gt;50K</td>\n",
              "    </tr>\n",
              "    <tr>\n",
              "      <th>3</th>\n",
              "      <td>44</td>\n",
              "      <td>Private</td>\n",
              "      <td>160323</td>\n",
              "      <td>Some-college</td>\n",
              "      <td>10</td>\n",
              "      <td>Married-civ-spouse</td>\n",
              "      <td>Machine-op-inspct</td>\n",
              "      <td>Husband</td>\n",
              "      <td>Black</td>\n",
              "      <td>Male</td>\n",
              "      <td>40</td>\n",
              "      <td>United-States</td>\n",
              "      <td>&gt;50K</td>\n",
              "    </tr>\n",
              "    <tr>\n",
              "      <th>4</th>\n",
              "      <td>18</td>\n",
              "      <td>Private</td>\n",
              "      <td>103497</td>\n",
              "      <td>Some-college</td>\n",
              "      <td>10</td>\n",
              "      <td>Never-married</td>\n",
              "      <td>Prof-specialty</td>\n",
              "      <td>Own-child</td>\n",
              "      <td>White</td>\n",
              "      <td>Female</td>\n",
              "      <td>30</td>\n",
              "      <td>United-States</td>\n",
              "      <td>&lt;=50K</td>\n",
              "    </tr>\n",
              "  </tbody>\n",
              "</table>\n",
              "</div>"
            ],
            "text/plain": [
              "   age  workclass  fnlwgt  ... hours-per-week  native-country income\n",
              "0   25    Private  226802  ...             40   United-States  <=50K\n",
              "1   38    Private   89814  ...             50   United-States  <=50K\n",
              "2   28  Local-gov  336951  ...             40   United-States   >50K\n",
              "3   44    Private  160323  ...             40   United-States   >50K\n",
              "4   18    Private  103497  ...             30   United-States  <=50K\n",
              "\n",
              "[5 rows x 13 columns]"
            ]
          },
          "metadata": {
            "tags": []
          },
          "execution_count": 34
        }
      ]
    },
    {
      "cell_type": "code",
      "metadata": {
        "colab": {
          "base_uri": "https://localhost:8080/",
          "height": 443
        },
        "id": "objective-clark",
        "outputId": "9618128e-870c-4feb-85c4-2fbe9fb1fea9"
      },
      "source": [
        "num_cols = ['age','fnlwgt','educational-num','hours-per-week']\n",
        "i=0\n",
        "while i < 4:\n",
        "    fig = plt.figure(figsize=[13,3])\n",
        "    #ax1 = fig.add_subplot(121)\n",
        "    #ax2 = fig.add_subplot(122)\n",
        "    \n",
        "    #ax1.title.set_text(num_cols[i])\n",
        "    plt.subplot(1,2,1)\n",
        "    sns.boxplot(x=num_cols[i], data=data_main)\n",
        "    i += 1\n",
        "    \n",
        "    #ax2.title.set_text(num_cols[i])\n",
        "    plt.subplot(1,2,2)\n",
        "    sns.boxplot(x=num_cols[i], data=data_main)\n",
        "    i += 1\n",
        "    \n",
        "    plt.show()"
      ],
      "id": "objective-clark",
      "execution_count": 27,
      "outputs": [
        {
          "output_type": "display_data",
          "data": {
            "image/png": "[encoded data removed]",
            "text/plain": [
              "<Figure size 936x216 with 2 Axes>"
            ]
          },
          "metadata": {
            "tags": [],
            "needs_background": "light"
          }
        },
        {
          "output_type": "display_data",
          "data": {
            "image/png": "[encoded data removed]",
            "text/plain": [
              "<Figure size 936x216 with 2 Axes>"
            ]
          },
          "metadata": {
            "tags": [],
            "needs_background": "light"
          }
        }
      ]
    },
    {
      "cell_type": "code",
      "metadata": {
        "colab": {
          "base_uri": "https://localhost:8080/",
          "height": 711
        },
        "id": "interstate-ferry",
        "outputId": "217c8cac-f00e-4ce1-c907-4bb07ad3218b"
      },
      "source": [
        "data_main[data_main['age'] > data_main['age'].quantile(0.99)].sort_values(by=\"age\",ascending=False)"
      ],
      "id": "interstate-ferry",
      "execution_count": 28,
      "outputs": [
        {
          "output_type": "execute_result",
          "data": {
            "text/html": [
              "<div>\n",
              "<style scoped>\n",
              "    .dataframe tbody tr th:only-of-type {\n",
              "        vertical-align: middle;\n",
              "    }\n",
              "\n",
              "    .dataframe tbody tr th {\n",
              "        vertical-align: top;\n",
              "    }\n",
              "\n",
              "    .dataframe thead th {\n",
              "        text-align: right;\n",
              "    }\n",
              "</style>\n",
              "<table border=\"1\" class=\"dataframe\">\n",
              "  <thead>\n",
              "    <tr style=\"text-align: right;\">\n",
              "      <th></th>\n",
              "      <th>age</th>\n",
              "      <th>workclass</th>\n",
              "      <th>fnlwgt</th>\n",
              "      <th>education</th>\n",
              "      <th>educational-num</th>\n",
              "      <th>marital-status</th>\n",
              "      <th>occupation</th>\n",
              "      <th>relationship</th>\n",
              "      <th>race</th>\n",
              "      <th>gender</th>\n",
              "      <th>hours-per-week</th>\n",
              "      <th>native-country</th>\n",
              "      <th>income</th>\n",
              "    </tr>\n",
              "  </thead>\n",
              "  <tbody>\n",
              "    <tr>\n",
              "      <th>10735</th>\n",
              "      <td>90</td>\n",
              "      <td>Local-gov</td>\n",
              "      <td>188242</td>\n",
              "      <td>HS-grad</td>\n",
              "      <td>9</td>\n",
              "      <td>Never-married</td>\n",
              "      <td>Craft-repair</td>\n",
              "      <td>Own-child</td>\n",
              "      <td>White</td>\n",
              "      <td>Male</td>\n",
              "      <td>40</td>\n",
              "      <td>United-States</td>\n",
              "      <td>&gt;50K</td>\n",
              "    </tr>\n",
              "    <tr>\n",
              "      <th>38501</th>\n",
              "      <td>90</td>\n",
              "      <td>Private</td>\n",
              "      <td>52386</td>\n",
              "      <td>Bachelors</td>\n",
              "      <td>13</td>\n",
              "      <td>Never-married</td>\n",
              "      <td>Prof-specialty</td>\n",
              "      <td>Not-in-family</td>\n",
              "      <td>Asian-Pac-Islander</td>\n",
              "      <td>Male</td>\n",
              "      <td>40</td>\n",
              "      <td>United-States</td>\n",
              "      <td>&lt;=50K</td>\n",
              "    </tr>\n",
              "    <tr>\n",
              "      <th>15088</th>\n",
              "      <td>90</td>\n",
              "      <td>Private</td>\n",
              "      <td>197613</td>\n",
              "      <td>HS-grad</td>\n",
              "      <td>9</td>\n",
              "      <td>Never-married</td>\n",
              "      <td>Adm-clerical</td>\n",
              "      <td>Not-in-family</td>\n",
              "      <td>White</td>\n",
              "      <td>Female</td>\n",
              "      <td>40</td>\n",
              "      <td>United-States</td>\n",
              "      <td>&gt;50K</td>\n",
              "    </tr>\n",
              "    <tr>\n",
              "      <th>13958</th>\n",
              "      <td>90</td>\n",
              "      <td>Private</td>\n",
              "      <td>272752</td>\n",
              "      <td>Some-college</td>\n",
              "      <td>10</td>\n",
              "      <td>Never-married</td>\n",
              "      <td>Other-service</td>\n",
              "      <td>Own-child</td>\n",
              "      <td>White</td>\n",
              "      <td>Male</td>\n",
              "      <td>10</td>\n",
              "      <td>United-States</td>\n",
              "      <td>&lt;=50K</td>\n",
              "    </tr>\n",
              "    <tr>\n",
              "      <th>30440</th>\n",
              "      <td>90</td>\n",
              "      <td>Local-gov</td>\n",
              "      <td>187749</td>\n",
              "      <td>Assoc-acdm</td>\n",
              "      <td>12</td>\n",
              "      <td>Married-civ-spouse</td>\n",
              "      <td>Adm-clerical</td>\n",
              "      <td>Husband</td>\n",
              "      <td>Asian-Pac-Islander</td>\n",
              "      <td>Male</td>\n",
              "      <td>20</td>\n",
              "      <td>Philippines</td>\n",
              "      <td>&lt;=50K</td>\n",
              "    </tr>\n",
              "    <tr>\n",
              "      <th>...</th>\n",
              "      <td>...</td>\n",
              "      <td>...</td>\n",
              "      <td>...</td>\n",
              "      <td>...</td>\n",
              "      <td>...</td>\n",
              "      <td>...</td>\n",
              "      <td>...</td>\n",
              "      <td>...</td>\n",
              "      <td>...</td>\n",
              "      <td>...</td>\n",
              "      <td>...</td>\n",
              "      <td>...</td>\n",
              "      <td>...</td>\n",
              "    </tr>\n",
              "    <tr>\n",
              "      <th>30662</th>\n",
              "      <td>75</td>\n",
              "      <td>Self-emp-inc</td>\n",
              "      <td>125197</td>\n",
              "      <td>HS-grad</td>\n",
              "      <td>9</td>\n",
              "      <td>Married-civ-spouse</td>\n",
              "      <td>Adm-clerical</td>\n",
              "      <td>Husband</td>\n",
              "      <td>White</td>\n",
              "      <td>Male</td>\n",
              "      <td>26</td>\n",
              "      <td>United-States</td>\n",
              "      <td>&lt;=50K</td>\n",
              "    </tr>\n",
              "    <tr>\n",
              "      <th>13603</th>\n",
              "      <td>75</td>\n",
              "      <td>Local-gov</td>\n",
              "      <td>73433</td>\n",
              "      <td>HS-grad</td>\n",
              "      <td>9</td>\n",
              "      <td>Married-civ-spouse</td>\n",
              "      <td>Other-service</td>\n",
              "      <td>Husband</td>\n",
              "      <td>White</td>\n",
              "      <td>Male</td>\n",
              "      <td>40</td>\n",
              "      <td>Canada</td>\n",
              "      <td>&lt;=50K</td>\n",
              "    </tr>\n",
              "    <tr>\n",
              "      <th>39369</th>\n",
              "      <td>75</td>\n",
              "      <td>Self-emp-not-inc</td>\n",
              "      <td>165968</td>\n",
              "      <td>Assoc-voc</td>\n",
              "      <td>11</td>\n",
              "      <td>Widowed</td>\n",
              "      <td>Exec-managerial</td>\n",
              "      <td>Not-in-family</td>\n",
              "      <td>White</td>\n",
              "      <td>Female</td>\n",
              "      <td>30</td>\n",
              "      <td>United-States</td>\n",
              "      <td>&lt;=50K</td>\n",
              "    </tr>\n",
              "    <tr>\n",
              "      <th>19248</th>\n",
              "      <td>75</td>\n",
              "      <td>Private</td>\n",
              "      <td>188612</td>\n",
              "      <td>HS-grad</td>\n",
              "      <td>9</td>\n",
              "      <td>Widowed</td>\n",
              "      <td>Adm-clerical</td>\n",
              "      <td>Not-in-family</td>\n",
              "      <td>White</td>\n",
              "      <td>Female</td>\n",
              "      <td>40</td>\n",
              "      <td>United-States</td>\n",
              "      <td>&lt;=50K</td>\n",
              "    </tr>\n",
              "    <tr>\n",
              "      <th>17843</th>\n",
              "      <td>75</td>\n",
              "      <td>Private</td>\n",
              "      <td>111177</td>\n",
              "      <td>Bachelors</td>\n",
              "      <td>13</td>\n",
              "      <td>Widowed</td>\n",
              "      <td>Prof-specialty</td>\n",
              "      <td>Not-in-family</td>\n",
              "      <td>White</td>\n",
              "      <td>Female</td>\n",
              "      <td>16</td>\n",
              "      <td>United-States</td>\n",
              "      <td>&gt;50K</td>\n",
              "    </tr>\n",
              "  </tbody>\n",
              "</table>\n",
              "<p>445 rows × 13 columns</p>\n",
              "</div>"
            ],
            "text/plain": [
              "       age         workclass  fnlwgt  ... hours-per-week  native-country income\n",
              "10735   90         Local-gov  188242  ...             40   United-States   >50K\n",
              "38501   90           Private   52386  ...             40   United-States  <=50K\n",
              "15088   90           Private  197613  ...             40   United-States   >50K\n",
              "13958   90           Private  272752  ...             10   United-States  <=50K\n",
              "30440   90         Local-gov  187749  ...             20     Philippines  <=50K\n",
              "...    ...               ...     ...  ...            ...             ...    ...\n",
              "30662   75      Self-emp-inc  125197  ...             26   United-States  <=50K\n",
              "13603   75         Local-gov   73433  ...             40          Canada  <=50K\n",
              "39369   75  Self-emp-not-inc  165968  ...             30   United-States  <=50K\n",
              "19248   75           Private  188612  ...             40   United-States  <=50K\n",
              "17843   75           Private  111177  ...             16   United-States   >50K\n",
              "\n",
              "[445 rows x 13 columns]"
            ]
          },
          "metadata": {
            "tags": []
          },
          "execution_count": 28
        }
      ]
    },
    {
      "cell_type": "code",
      "metadata": {
        "colab": {
          "base_uri": "https://localhost:8080/",
          "height": 694
        },
        "id": "thick-congo",
        "outputId": "a7f6d1d1-f327-446c-d62f-161658d1cbdc"
      },
      "source": [
        "data_main[data_main['fnlwgt'] > data_main['fnlwgt'].quantile(0.99)].sort_values(by=\"fnlwgt\",ascending=False)"
      ],
      "id": "thick-congo",
      "execution_count": 29,
      "outputs": [
        {
          "output_type": "execute_result",
          "data": {
            "text/html": [
              "<div>\n",
              "<style scoped>\n",
              "    .dataframe tbody tr th:only-of-type {\n",
              "        vertical-align: middle;\n",
              "    }\n",
              "\n",
              "    .dataframe tbody tr th {\n",
              "        vertical-align: top;\n",
              "    }\n",
              "\n",
              "    .dataframe thead th {\n",
              "        text-align: right;\n",
              "    }\n",
              "</style>\n",
              "<table border=\"1\" class=\"dataframe\">\n",
              "  <thead>\n",
              "    <tr style=\"text-align: right;\">\n",
              "      <th></th>\n",
              "      <th>age</th>\n",
              "      <th>workclass</th>\n",
              "      <th>fnlwgt</th>\n",
              "      <th>education</th>\n",
              "      <th>educational-num</th>\n",
              "      <th>marital-status</th>\n",
              "      <th>occupation</th>\n",
              "      <th>relationship</th>\n",
              "      <th>race</th>\n",
              "      <th>gender</th>\n",
              "      <th>hours-per-week</th>\n",
              "      <th>native-country</th>\n",
              "      <th>income</th>\n",
              "    </tr>\n",
              "  </thead>\n",
              "  <tbody>\n",
              "    <tr>\n",
              "      <th>7974</th>\n",
              "      <td>27</td>\n",
              "      <td>Private</td>\n",
              "      <td>1490400</td>\n",
              "      <td>Some-college</td>\n",
              "      <td>10</td>\n",
              "      <td>Married-civ-spouse</td>\n",
              "      <td>Exec-managerial</td>\n",
              "      <td>Husband</td>\n",
              "      <td>White</td>\n",
              "      <td>Male</td>\n",
              "      <td>40</td>\n",
              "      <td>United-States</td>\n",
              "      <td>&lt;=50K</td>\n",
              "    </tr>\n",
              "    <tr>\n",
              "      <th>30730</th>\n",
              "      <td>25</td>\n",
              "      <td>Private</td>\n",
              "      <td>1484705</td>\n",
              "      <td>Some-college</td>\n",
              "      <td>10</td>\n",
              "      <td>Divorced</td>\n",
              "      <td>Exec-managerial</td>\n",
              "      <td>Unmarried</td>\n",
              "      <td>White</td>\n",
              "      <td>Female</td>\n",
              "      <td>25</td>\n",
              "      <td>United-States</td>\n",
              "      <td>&lt;=50K</td>\n",
              "    </tr>\n",
              "    <tr>\n",
              "      <th>34419</th>\n",
              "      <td>39</td>\n",
              "      <td>Private</td>\n",
              "      <td>1455435</td>\n",
              "      <td>Assoc-acdm</td>\n",
              "      <td>12</td>\n",
              "      <td>Separated</td>\n",
              "      <td>Craft-repair</td>\n",
              "      <td>Not-in-family</td>\n",
              "      <td>White</td>\n",
              "      <td>Male</td>\n",
              "      <td>40</td>\n",
              "      <td>United-States</td>\n",
              "      <td>&lt;=50K</td>\n",
              "    </tr>\n",
              "    <tr>\n",
              "      <th>33020</th>\n",
              "      <td>45</td>\n",
              "      <td>Private</td>\n",
              "      <td>1366120</td>\n",
              "      <td>Assoc-voc</td>\n",
              "      <td>11</td>\n",
              "      <td>Divorced</td>\n",
              "      <td>Other-service</td>\n",
              "      <td>Not-in-family</td>\n",
              "      <td>White</td>\n",
              "      <td>Female</td>\n",
              "      <td>8</td>\n",
              "      <td>United-States</td>\n",
              "      <td>&lt;=50K</td>\n",
              "    </tr>\n",
              "    <tr>\n",
              "      <th>31850</th>\n",
              "      <td>29</td>\n",
              "      <td>Private</td>\n",
              "      <td>1268339</td>\n",
              "      <td>HS-grad</td>\n",
              "      <td>9</td>\n",
              "      <td>Married-spouse-absent</td>\n",
              "      <td>Tech-support</td>\n",
              "      <td>Own-child</td>\n",
              "      <td>Black</td>\n",
              "      <td>Male</td>\n",
              "      <td>40</td>\n",
              "      <td>United-States</td>\n",
              "      <td>&lt;=50K</td>\n",
              "    </tr>\n",
              "    <tr>\n",
              "      <th>...</th>\n",
              "      <td>...</td>\n",
              "      <td>...</td>\n",
              "      <td>...</td>\n",
              "      <td>...</td>\n",
              "      <td>...</td>\n",
              "      <td>...</td>\n",
              "      <td>...</td>\n",
              "      <td>...</td>\n",
              "      <td>...</td>\n",
              "      <td>...</td>\n",
              "      <td>...</td>\n",
              "      <td>...</td>\n",
              "      <td>...</td>\n",
              "    </tr>\n",
              "    <tr>\n",
              "      <th>20341</th>\n",
              "      <td>40</td>\n",
              "      <td>Private</td>\n",
              "      <td>510072</td>\n",
              "      <td>Bachelors</td>\n",
              "      <td>13</td>\n",
              "      <td>Married-civ-spouse</td>\n",
              "      <td>Sales</td>\n",
              "      <td>Husband</td>\n",
              "      <td>White</td>\n",
              "      <td>Male</td>\n",
              "      <td>55</td>\n",
              "      <td>United-States</td>\n",
              "      <td>&gt;50K</td>\n",
              "    </tr>\n",
              "    <tr>\n",
              "      <th>44502</th>\n",
              "      <td>25</td>\n",
              "      <td>Private</td>\n",
              "      <td>509866</td>\n",
              "      <td>HS-grad</td>\n",
              "      <td>9</td>\n",
              "      <td>Never-married</td>\n",
              "      <td>Transport-moving</td>\n",
              "      <td>Not-in-family</td>\n",
              "      <td>White</td>\n",
              "      <td>Male</td>\n",
              "      <td>78</td>\n",
              "      <td>United-States</td>\n",
              "      <td>&lt;=50K</td>\n",
              "    </tr>\n",
              "    <tr>\n",
              "      <th>26091</th>\n",
              "      <td>24</td>\n",
              "      <td>Private</td>\n",
              "      <td>509629</td>\n",
              "      <td>HS-grad</td>\n",
              "      <td>9</td>\n",
              "      <td>Never-married</td>\n",
              "      <td>Other-service</td>\n",
              "      <td>Own-child</td>\n",
              "      <td>White</td>\n",
              "      <td>Female</td>\n",
              "      <td>25</td>\n",
              "      <td>United-States</td>\n",
              "      <td>&lt;=50K</td>\n",
              "    </tr>\n",
              "    <tr>\n",
              "      <th>45238</th>\n",
              "      <td>21</td>\n",
              "      <td>Private</td>\n",
              "      <td>509629</td>\n",
              "      <td>Some-college</td>\n",
              "      <td>10</td>\n",
              "      <td>Never-married</td>\n",
              "      <td>Prof-specialty</td>\n",
              "      <td>Own-child</td>\n",
              "      <td>White</td>\n",
              "      <td>Female</td>\n",
              "      <td>35</td>\n",
              "      <td>United-States</td>\n",
              "      <td>&lt;=50K</td>\n",
              "    </tr>\n",
              "    <tr>\n",
              "      <th>35141</th>\n",
              "      <td>30</td>\n",
              "      <td>Private</td>\n",
              "      <td>509500</td>\n",
              "      <td>Bachelors</td>\n",
              "      <td>13</td>\n",
              "      <td>Never-married</td>\n",
              "      <td>Tech-support</td>\n",
              "      <td>Not-in-family</td>\n",
              "      <td>White</td>\n",
              "      <td>Female</td>\n",
              "      <td>45</td>\n",
              "      <td>United-States</td>\n",
              "      <td>&gt;50K</td>\n",
              "    </tr>\n",
              "  </tbody>\n",
              "</table>\n",
              "<p>489 rows × 13 columns</p>\n",
              "</div>"
            ],
            "text/plain": [
              "       age workclass   fnlwgt  ... hours-per-week  native-country income\n",
              "7974    27   Private  1490400  ...             40   United-States  <=50K\n",
              "30730   25   Private  1484705  ...             25   United-States  <=50K\n",
              "34419   39   Private  1455435  ...             40   United-States  <=50K\n",
              "33020   45   Private  1366120  ...              8   United-States  <=50K\n",
              "31850   29   Private  1268339  ...             40   United-States  <=50K\n",
              "...    ...       ...      ...  ...            ...             ...    ...\n",
              "20341   40   Private   510072  ...             55   United-States   >50K\n",
              "44502   25   Private   509866  ...             78   United-States  <=50K\n",
              "26091   24   Private   509629  ...             25   United-States  <=50K\n",
              "45238   21   Private   509629  ...             35   United-States  <=50K\n",
              "35141   30   Private   509500  ...             45   United-States   >50K\n",
              "\n",
              "[489 rows x 13 columns]"
            ]
          },
          "metadata": {
            "tags": []
          },
          "execution_count": 29
        }
      ]
    },
    {
      "cell_type": "code",
      "metadata": {
        "colab": {
          "base_uri": "https://localhost:8080/",
          "height": 728
        },
        "id": "worst-buddy",
        "outputId": "0f711113-6982-443d-c0e9-d45208cbbc13"
      },
      "source": [
        "data_main[data_main['educational-num'] > data_main['educational-num'].quantile(0.25)].sort_values(by=\"educational-num\",ascending=False)"
      ],
      "id": "worst-buddy",
      "execution_count": 30,
      "outputs": [
        {
          "output_type": "execute_result",
          "data": {
            "text/html": [
              "<div>\n",
              "<style scoped>\n",
              "    .dataframe tbody tr th:only-of-type {\n",
              "        vertical-align: middle;\n",
              "    }\n",
              "\n",
              "    .dataframe tbody tr th {\n",
              "        vertical-align: top;\n",
              "    }\n",
              "\n",
              "    .dataframe thead th {\n",
              "        text-align: right;\n",
              "    }\n",
              "</style>\n",
              "<table border=\"1\" class=\"dataframe\">\n",
              "  <thead>\n",
              "    <tr style=\"text-align: right;\">\n",
              "      <th></th>\n",
              "      <th>age</th>\n",
              "      <th>workclass</th>\n",
              "      <th>fnlwgt</th>\n",
              "      <th>education</th>\n",
              "      <th>educational-num</th>\n",
              "      <th>marital-status</th>\n",
              "      <th>occupation</th>\n",
              "      <th>relationship</th>\n",
              "      <th>race</th>\n",
              "      <th>gender</th>\n",
              "      <th>hours-per-week</th>\n",
              "      <th>native-country</th>\n",
              "      <th>income</th>\n",
              "    </tr>\n",
              "  </thead>\n",
              "  <tbody>\n",
              "    <tr>\n",
              "      <th>36474</th>\n",
              "      <td>49</td>\n",
              "      <td>Private</td>\n",
              "      <td>133969</td>\n",
              "      <td>Doctorate</td>\n",
              "      <td>16</td>\n",
              "      <td>Married-civ-spouse</td>\n",
              "      <td>Prof-specialty</td>\n",
              "      <td>Husband</td>\n",
              "      <td>Other</td>\n",
              "      <td>Male</td>\n",
              "      <td>50</td>\n",
              "      <td>United-States</td>\n",
              "      <td>&gt;50K</td>\n",
              "    </tr>\n",
              "    <tr>\n",
              "      <th>39148</th>\n",
              "      <td>33</td>\n",
              "      <td>Federal-gov</td>\n",
              "      <td>331615</td>\n",
              "      <td>Doctorate</td>\n",
              "      <td>16</td>\n",
              "      <td>Married-civ-spouse</td>\n",
              "      <td>Prof-specialty</td>\n",
              "      <td>Husband</td>\n",
              "      <td>White</td>\n",
              "      <td>Male</td>\n",
              "      <td>40</td>\n",
              "      <td>United-States</td>\n",
              "      <td>&gt;50K</td>\n",
              "    </tr>\n",
              "    <tr>\n",
              "      <th>27245</th>\n",
              "      <td>56</td>\n",
              "      <td>Self-emp-inc</td>\n",
              "      <td>205601</td>\n",
              "      <td>Doctorate</td>\n",
              "      <td>16</td>\n",
              "      <td>Married-civ-spouse</td>\n",
              "      <td>Prof-specialty</td>\n",
              "      <td>Husband</td>\n",
              "      <td>White</td>\n",
              "      <td>Male</td>\n",
              "      <td>70</td>\n",
              "      <td>United-States</td>\n",
              "      <td>&gt;50K</td>\n",
              "    </tr>\n",
              "    <tr>\n",
              "      <th>6205</th>\n",
              "      <td>33</td>\n",
              "      <td>State-gov</td>\n",
              "      <td>25806</td>\n",
              "      <td>Doctorate</td>\n",
              "      <td>16</td>\n",
              "      <td>Married-civ-spouse</td>\n",
              "      <td>Prof-specialty</td>\n",
              "      <td>Husband</td>\n",
              "      <td>Asian-Pac-Islander</td>\n",
              "      <td>Male</td>\n",
              "      <td>20</td>\n",
              "      <td>United-States</td>\n",
              "      <td>&lt;=50K</td>\n",
              "    </tr>\n",
              "    <tr>\n",
              "      <th>12362</th>\n",
              "      <td>34</td>\n",
              "      <td>Private</td>\n",
              "      <td>87535</td>\n",
              "      <td>Doctorate</td>\n",
              "      <td>16</td>\n",
              "      <td>Never-married</td>\n",
              "      <td>Exec-managerial</td>\n",
              "      <td>Not-in-family</td>\n",
              "      <td>White</td>\n",
              "      <td>Female</td>\n",
              "      <td>40</td>\n",
              "      <td>United-States</td>\n",
              "      <td>&lt;=50K</td>\n",
              "    </tr>\n",
              "    <tr>\n",
              "      <th>...</th>\n",
              "      <td>...</td>\n",
              "      <td>...</td>\n",
              "      <td>...</td>\n",
              "      <td>...</td>\n",
              "      <td>...</td>\n",
              "      <td>...</td>\n",
              "      <td>...</td>\n",
              "      <td>...</td>\n",
              "      <td>...</td>\n",
              "      <td>...</td>\n",
              "      <td>...</td>\n",
              "      <td>...</td>\n",
              "      <td>...</td>\n",
              "    </tr>\n",
              "    <tr>\n",
              "      <th>12829</th>\n",
              "      <td>23</td>\n",
              "      <td>Private</td>\n",
              "      <td>213902</td>\n",
              "      <td>Some-college</td>\n",
              "      <td>10</td>\n",
              "      <td>Never-married</td>\n",
              "      <td>Other-service</td>\n",
              "      <td>Unmarried</td>\n",
              "      <td>White</td>\n",
              "      <td>Female</td>\n",
              "      <td>20</td>\n",
              "      <td>United-States</td>\n",
              "      <td>&lt;=50K</td>\n",
              "    </tr>\n",
              "    <tr>\n",
              "      <th>21117</th>\n",
              "      <td>57</td>\n",
              "      <td>Federal-gov</td>\n",
              "      <td>97837</td>\n",
              "      <td>Some-college</td>\n",
              "      <td>10</td>\n",
              "      <td>Divorced</td>\n",
              "      <td>Prof-specialty</td>\n",
              "      <td>Not-in-family</td>\n",
              "      <td>White</td>\n",
              "      <td>Male</td>\n",
              "      <td>48</td>\n",
              "      <td>United-States</td>\n",
              "      <td>&gt;50K</td>\n",
              "    </tr>\n",
              "    <tr>\n",
              "      <th>12825</th>\n",
              "      <td>23</td>\n",
              "      <td>State-gov</td>\n",
              "      <td>1117718</td>\n",
              "      <td>Some-college</td>\n",
              "      <td>10</td>\n",
              "      <td>Never-married</td>\n",
              "      <td>Protective-serv</td>\n",
              "      <td>Not-in-family</td>\n",
              "      <td>Black</td>\n",
              "      <td>Male</td>\n",
              "      <td>30</td>\n",
              "      <td>United-States</td>\n",
              "      <td>&lt;=50K</td>\n",
              "    </tr>\n",
              "    <tr>\n",
              "      <th>12821</th>\n",
              "      <td>50</td>\n",
              "      <td>Private</td>\n",
              "      <td>320510</td>\n",
              "      <td>Some-college</td>\n",
              "      <td>10</td>\n",
              "      <td>Married-civ-spouse</td>\n",
              "      <td>Exec-managerial</td>\n",
              "      <td>Husband</td>\n",
              "      <td>White</td>\n",
              "      <td>Male</td>\n",
              "      <td>60</td>\n",
              "      <td>United-States</td>\n",
              "      <td>&gt;50K</td>\n",
              "    </tr>\n",
              "    <tr>\n",
              "      <th>23717</th>\n",
              "      <td>21</td>\n",
              "      <td>Private</td>\n",
              "      <td>246207</td>\n",
              "      <td>Some-college</td>\n",
              "      <td>10</td>\n",
              "      <td>Never-married</td>\n",
              "      <td>Adm-clerical</td>\n",
              "      <td>Own-child</td>\n",
              "      <td>Black</td>\n",
              "      <td>Female</td>\n",
              "      <td>20</td>\n",
              "      <td>United-States</td>\n",
              "      <td>&lt;=50K</td>\n",
              "    </tr>\n",
              "  </tbody>\n",
              "</table>\n",
              "<p>26650 rows × 13 columns</p>\n",
              "</div>"
            ],
            "text/plain": [
              "       age     workclass   fnlwgt  ... hours-per-week  native-country income\n",
              "36474   49       Private   133969  ...             50   United-States   >50K\n",
              "39148   33   Federal-gov   331615  ...             40   United-States   >50K\n",
              "27245   56  Self-emp-inc   205601  ...             70   United-States   >50K\n",
              "6205    33     State-gov    25806  ...             20   United-States  <=50K\n",
              "12362   34       Private    87535  ...             40   United-States  <=50K\n",
              "...    ...           ...      ...  ...            ...             ...    ...\n",
              "12829   23       Private   213902  ...             20   United-States  <=50K\n",
              "21117   57   Federal-gov    97837  ...             48   United-States   >50K\n",
              "12825   23     State-gov  1117718  ...             30   United-States  <=50K\n",
              "12821   50       Private   320510  ...             60   United-States   >50K\n",
              "23717   21       Private   246207  ...             20   United-States  <=50K\n",
              "\n",
              "[26650 rows x 13 columns]"
            ]
          },
          "metadata": {
            "tags": []
          },
          "execution_count": 30
        }
      ]
    },
    {
      "cell_type": "code",
      "metadata": {
        "colab": {
          "base_uri": "https://localhost:8080/",
          "height": 745
        },
        "id": "consolidated-method",
        "outputId": "b9644c2d-3458-415a-c3b0-770056a39abc"
      },
      "source": [
        "data_main[data_main['hours-per-week'] > data_main['hours-per-week'].quantile(0.25)].sort_values(by=\"hours-per-week\",ascending=False)"
      ],
      "id": "consolidated-method",
      "execution_count": 31,
      "outputs": [
        {
          "output_type": "execute_result",
          "data": {
            "text/html": [
              "<div>\n",
              "<style scoped>\n",
              "    .dataframe tbody tr th:only-of-type {\n",
              "        vertical-align: middle;\n",
              "    }\n",
              "\n",
              "    .dataframe tbody tr th {\n",
              "        vertical-align: top;\n",
              "    }\n",
              "\n",
              "    .dataframe thead th {\n",
              "        text-align: right;\n",
              "    }\n",
              "</style>\n",
              "<table border=\"1\" class=\"dataframe\">\n",
              "  <thead>\n",
              "    <tr style=\"text-align: right;\">\n",
              "      <th></th>\n",
              "      <th>age</th>\n",
              "      <th>workclass</th>\n",
              "      <th>fnlwgt</th>\n",
              "      <th>education</th>\n",
              "      <th>educational-num</th>\n",
              "      <th>marital-status</th>\n",
              "      <th>occupation</th>\n",
              "      <th>relationship</th>\n",
              "      <th>race</th>\n",
              "      <th>gender</th>\n",
              "      <th>hours-per-week</th>\n",
              "      <th>native-country</th>\n",
              "      <th>income</th>\n",
              "    </tr>\n",
              "  </thead>\n",
              "  <tbody>\n",
              "    <tr>\n",
              "      <th>35334</th>\n",
              "      <td>27</td>\n",
              "      <td>Private</td>\n",
              "      <td>40295</td>\n",
              "      <td>HS-grad</td>\n",
              "      <td>9</td>\n",
              "      <td>Never-married</td>\n",
              "      <td>Transport-moving</td>\n",
              "      <td>Not-in-family</td>\n",
              "      <td>White</td>\n",
              "      <td>Male</td>\n",
              "      <td>99</td>\n",
              "      <td>United-States</td>\n",
              "      <td>&lt;=50K</td>\n",
              "    </tr>\n",
              "    <tr>\n",
              "      <th>43139</th>\n",
              "      <td>66</td>\n",
              "      <td>Private</td>\n",
              "      <td>262285</td>\n",
              "      <td>Bachelors</td>\n",
              "      <td>13</td>\n",
              "      <td>Married-civ-spouse</td>\n",
              "      <td>Prof-specialty</td>\n",
              "      <td>Husband</td>\n",
              "      <td>White</td>\n",
              "      <td>Male</td>\n",
              "      <td>99</td>\n",
              "      <td>United-States</td>\n",
              "      <td>&lt;=50K</td>\n",
              "    </tr>\n",
              "    <tr>\n",
              "      <th>6271</th>\n",
              "      <td>35</td>\n",
              "      <td>Private</td>\n",
              "      <td>124090</td>\n",
              "      <td>Assoc-voc</td>\n",
              "      <td>11</td>\n",
              "      <td>Married-civ-spouse</td>\n",
              "      <td>Transport-moving</td>\n",
              "      <td>Husband</td>\n",
              "      <td>White</td>\n",
              "      <td>Male</td>\n",
              "      <td>99</td>\n",
              "      <td>United-States</td>\n",
              "      <td>&lt;=50K</td>\n",
              "    </tr>\n",
              "    <tr>\n",
              "      <th>13327</th>\n",
              "      <td>52</td>\n",
              "      <td>Self-emp-not-inc</td>\n",
              "      <td>284648</td>\n",
              "      <td>HS-grad</td>\n",
              "      <td>9</td>\n",
              "      <td>Divorced</td>\n",
              "      <td>Exec-managerial</td>\n",
              "      <td>Unmarried</td>\n",
              "      <td>White</td>\n",
              "      <td>Female</td>\n",
              "      <td>99</td>\n",
              "      <td>United-States</td>\n",
              "      <td>&gt;50K</td>\n",
              "    </tr>\n",
              "    <tr>\n",
              "      <th>13368</th>\n",
              "      <td>42</td>\n",
              "      <td>Self-emp-inc</td>\n",
              "      <td>203233</td>\n",
              "      <td>Prof-school</td>\n",
              "      <td>15</td>\n",
              "      <td>Married-civ-spouse</td>\n",
              "      <td>Prof-specialty</td>\n",
              "      <td>Husband</td>\n",
              "      <td>White</td>\n",
              "      <td>Male</td>\n",
              "      <td>99</td>\n",
              "      <td>United-States</td>\n",
              "      <td>&gt;50K</td>\n",
              "    </tr>\n",
              "    <tr>\n",
              "      <th>...</th>\n",
              "      <td>...</td>\n",
              "      <td>...</td>\n",
              "      <td>...</td>\n",
              "      <td>...</td>\n",
              "      <td>...</td>\n",
              "      <td>...</td>\n",
              "      <td>...</td>\n",
              "      <td>...</td>\n",
              "      <td>...</td>\n",
              "      <td>...</td>\n",
              "      <td>...</td>\n",
              "      <td>...</td>\n",
              "      <td>...</td>\n",
              "    </tr>\n",
              "    <tr>\n",
              "      <th>29161</th>\n",
              "      <td>56</td>\n",
              "      <td>Private</td>\n",
              "      <td>124137</td>\n",
              "      <td>HS-grad</td>\n",
              "      <td>9</td>\n",
              "      <td>Divorced</td>\n",
              "      <td>Adm-clerical</td>\n",
              "      <td>Not-in-family</td>\n",
              "      <td>White</td>\n",
              "      <td>Male</td>\n",
              "      <td>41</td>\n",
              "      <td>United-States</td>\n",
              "      <td>&lt;=50K</td>\n",
              "    </tr>\n",
              "    <tr>\n",
              "      <th>23900</th>\n",
              "      <td>30</td>\n",
              "      <td>Private</td>\n",
              "      <td>446358</td>\n",
              "      <td>HS-grad</td>\n",
              "      <td>9</td>\n",
              "      <td>Never-married</td>\n",
              "      <td>Adm-clerical</td>\n",
              "      <td>Unmarried</td>\n",
              "      <td>White</td>\n",
              "      <td>Male</td>\n",
              "      <td>41</td>\n",
              "      <td>United-States</td>\n",
              "      <td>&lt;=50K</td>\n",
              "    </tr>\n",
              "    <tr>\n",
              "      <th>12221</th>\n",
              "      <td>54</td>\n",
              "      <td>Federal-gov</td>\n",
              "      <td>28683</td>\n",
              "      <td>HS-grad</td>\n",
              "      <td>9</td>\n",
              "      <td>Married-civ-spouse</td>\n",
              "      <td>Adm-clerical</td>\n",
              "      <td>Husband</td>\n",
              "      <td>White</td>\n",
              "      <td>Male</td>\n",
              "      <td>41</td>\n",
              "      <td>United-States</td>\n",
              "      <td>&gt;50K</td>\n",
              "    </tr>\n",
              "    <tr>\n",
              "      <th>8139</th>\n",
              "      <td>49</td>\n",
              "      <td>Federal-gov</td>\n",
              "      <td>105959</td>\n",
              "      <td>Some-college</td>\n",
              "      <td>10</td>\n",
              "      <td>Married-civ-spouse</td>\n",
              "      <td>Adm-clerical</td>\n",
              "      <td>Husband</td>\n",
              "      <td>White</td>\n",
              "      <td>Male</td>\n",
              "      <td>41</td>\n",
              "      <td>United-States</td>\n",
              "      <td>&gt;50K</td>\n",
              "    </tr>\n",
              "    <tr>\n",
              "      <th>8317</th>\n",
              "      <td>38</td>\n",
              "      <td>Private</td>\n",
              "      <td>133935</td>\n",
              "      <td>HS-grad</td>\n",
              "      <td>9</td>\n",
              "      <td>Married-civ-spouse</td>\n",
              "      <td>Craft-repair</td>\n",
              "      <td>Husband</td>\n",
              "      <td>White</td>\n",
              "      <td>Male</td>\n",
              "      <td>41</td>\n",
              "      <td>El-Salvador</td>\n",
              "      <td>&gt;50K</td>\n",
              "    </tr>\n",
              "  </tbody>\n",
              "</table>\n",
              "<p>14352 rows × 13 columns</p>\n",
              "</div>"
            ],
            "text/plain": [
              "       age         workclass  fnlwgt  ... hours-per-week  native-country income\n",
              "35334   27           Private   40295  ...             99   United-States  <=50K\n",
              "43139   66           Private  262285  ...             99   United-States  <=50K\n",
              "6271    35           Private  124090  ...             99   United-States  <=50K\n",
              "13327   52  Self-emp-not-inc  284648  ...             99   United-States   >50K\n",
              "13368   42      Self-emp-inc  203233  ...             99   United-States   >50K\n",
              "...    ...               ...     ...  ...            ...             ...    ...\n",
              "29161   56           Private  124137  ...             41   United-States  <=50K\n",
              "23900   30           Private  446358  ...             41   United-States  <=50K\n",
              "12221   54       Federal-gov   28683  ...             41   United-States   >50K\n",
              "8139    49       Federal-gov  105959  ...             41   United-States   >50K\n",
              "8317    38           Private  133935  ...             41     El-Salvador   >50K\n",
              "\n",
              "[14352 rows x 13 columns]"
            ]
          },
          "metadata": {
            "tags": []
          },
          "execution_count": 31
        }
      ]
    },
    {
      "cell_type": "code",
      "metadata": {
        "colab": {
          "base_uri": "https://localhost:8080/",
          "height": 660
        },
        "id": "accessible-bhutan",
        "outputId": "76843386-cd0d-4b7e-df5b-09314b3b63e1"
      },
      "source": [
        "data_main[data_main['hours-per-week'] > data_main['hours-per-week'].quantile(0.75)].sort_values(by=\"hours-per-week\",ascending=False)"
      ],
      "id": "accessible-bhutan",
      "execution_count": 32,
      "outputs": [
        {
          "output_type": "execute_result",
          "data": {
            "text/html": [
              "<div>\n",
              "<style scoped>\n",
              "    .dataframe tbody tr th:only-of-type {\n",
              "        vertical-align: middle;\n",
              "    }\n",
              "\n",
              "    .dataframe tbody tr th {\n",
              "        vertical-align: top;\n",
              "    }\n",
              "\n",
              "    .dataframe thead th {\n",
              "        text-align: right;\n",
              "    }\n",
              "</style>\n",
              "<table border=\"1\" class=\"dataframe\">\n",
              "  <thead>\n",
              "    <tr style=\"text-align: right;\">\n",
              "      <th></th>\n",
              "      <th>age</th>\n",
              "      <th>workclass</th>\n",
              "      <th>fnlwgt</th>\n",
              "      <th>education</th>\n",
              "      <th>educational-num</th>\n",
              "      <th>marital-status</th>\n",
              "      <th>occupation</th>\n",
              "      <th>relationship</th>\n",
              "      <th>race</th>\n",
              "      <th>gender</th>\n",
              "      <th>hours-per-week</th>\n",
              "      <th>native-country</th>\n",
              "      <th>income</th>\n",
              "    </tr>\n",
              "  </thead>\n",
              "  <tbody>\n",
              "    <tr>\n",
              "      <th>11455</th>\n",
              "      <td>46</td>\n",
              "      <td>Self-emp-not-inc</td>\n",
              "      <td>246891</td>\n",
              "      <td>Prof-school</td>\n",
              "      <td>15</td>\n",
              "      <td>Never-married</td>\n",
              "      <td>Prof-specialty</td>\n",
              "      <td>Not-in-family</td>\n",
              "      <td>White</td>\n",
              "      <td>Male</td>\n",
              "      <td>99</td>\n",
              "      <td>United-States</td>\n",
              "      <td>&gt;50K</td>\n",
              "    </tr>\n",
              "    <tr>\n",
              "      <th>30874</th>\n",
              "      <td>27</td>\n",
              "      <td>Private</td>\n",
              "      <td>179915</td>\n",
              "      <td>Bachelors</td>\n",
              "      <td>13</td>\n",
              "      <td>Never-married</td>\n",
              "      <td>Exec-managerial</td>\n",
              "      <td>Own-child</td>\n",
              "      <td>White</td>\n",
              "      <td>Female</td>\n",
              "      <td>99</td>\n",
              "      <td>United-States</td>\n",
              "      <td>&lt;=50K</td>\n",
              "    </tr>\n",
              "    <tr>\n",
              "      <th>13327</th>\n",
              "      <td>52</td>\n",
              "      <td>Self-emp-not-inc</td>\n",
              "      <td>284648</td>\n",
              "      <td>HS-grad</td>\n",
              "      <td>9</td>\n",
              "      <td>Divorced</td>\n",
              "      <td>Exec-managerial</td>\n",
              "      <td>Unmarried</td>\n",
              "      <td>White</td>\n",
              "      <td>Female</td>\n",
              "      <td>99</td>\n",
              "      <td>United-States</td>\n",
              "      <td>&gt;50K</td>\n",
              "    </tr>\n",
              "    <tr>\n",
              "      <th>44393</th>\n",
              "      <td>61</td>\n",
              "      <td>Private</td>\n",
              "      <td>158712</td>\n",
              "      <td>HS-grad</td>\n",
              "      <td>9</td>\n",
              "      <td>Divorced</td>\n",
              "      <td>Prof-specialty</td>\n",
              "      <td>Not-in-family</td>\n",
              "      <td>White</td>\n",
              "      <td>Female</td>\n",
              "      <td>99</td>\n",
              "      <td>United-States</td>\n",
              "      <td>&lt;=50K</td>\n",
              "    </tr>\n",
              "    <tr>\n",
              "      <th>39507</th>\n",
              "      <td>51</td>\n",
              "      <td>Self-emp-not-inc</td>\n",
              "      <td>88528</td>\n",
              "      <td>Assoc-acdm</td>\n",
              "      <td>12</td>\n",
              "      <td>Divorced</td>\n",
              "      <td>Exec-managerial</td>\n",
              "      <td>Unmarried</td>\n",
              "      <td>White</td>\n",
              "      <td>Female</td>\n",
              "      <td>99</td>\n",
              "      <td>United-States</td>\n",
              "      <td>&lt;=50K</td>\n",
              "    </tr>\n",
              "    <tr>\n",
              "      <th>...</th>\n",
              "      <td>...</td>\n",
              "      <td>...</td>\n",
              "      <td>...</td>\n",
              "      <td>...</td>\n",
              "      <td>...</td>\n",
              "      <td>...</td>\n",
              "      <td>...</td>\n",
              "      <td>...</td>\n",
              "      <td>...</td>\n",
              "      <td>...</td>\n",
              "      <td>...</td>\n",
              "      <td>...</td>\n",
              "      <td>...</td>\n",
              "    </tr>\n",
              "    <tr>\n",
              "      <th>27818</th>\n",
              "      <td>40</td>\n",
              "      <td>Private</td>\n",
              "      <td>226505</td>\n",
              "      <td>HS-grad</td>\n",
              "      <td>9</td>\n",
              "      <td>Married-civ-spouse</td>\n",
              "      <td>Adm-clerical</td>\n",
              "      <td>Wife</td>\n",
              "      <td>White</td>\n",
              "      <td>Female</td>\n",
              "      <td>46</td>\n",
              "      <td>United-States</td>\n",
              "      <td>&gt;50K</td>\n",
              "    </tr>\n",
              "    <tr>\n",
              "      <th>14868</th>\n",
              "      <td>33</td>\n",
              "      <td>Local-gov</td>\n",
              "      <td>203051</td>\n",
              "      <td>HS-grad</td>\n",
              "      <td>9</td>\n",
              "      <td>Never-married</td>\n",
              "      <td>Adm-clerical</td>\n",
              "      <td>Own-child</td>\n",
              "      <td>White</td>\n",
              "      <td>Male</td>\n",
              "      <td>46</td>\n",
              "      <td>United-States</td>\n",
              "      <td>&lt;=50K</td>\n",
              "    </tr>\n",
              "    <tr>\n",
              "      <th>30462</th>\n",
              "      <td>27</td>\n",
              "      <td>Private</td>\n",
              "      <td>189462</td>\n",
              "      <td>Masters</td>\n",
              "      <td>14</td>\n",
              "      <td>Never-married</td>\n",
              "      <td>Adm-clerical</td>\n",
              "      <td>Not-in-family</td>\n",
              "      <td>White</td>\n",
              "      <td>Female</td>\n",
              "      <td>46</td>\n",
              "      <td>United-States</td>\n",
              "      <td>&lt;=50K</td>\n",
              "    </tr>\n",
              "    <tr>\n",
              "      <th>4936</th>\n",
              "      <td>23</td>\n",
              "      <td>Private</td>\n",
              "      <td>345577</td>\n",
              "      <td>Bachelors</td>\n",
              "      <td>13</td>\n",
              "      <td>Never-married</td>\n",
              "      <td>Adm-clerical</td>\n",
              "      <td>Not-in-family</td>\n",
              "      <td>White</td>\n",
              "      <td>Female</td>\n",
              "      <td>46</td>\n",
              "      <td>United-States</td>\n",
              "      <td>&lt;=50K</td>\n",
              "    </tr>\n",
              "    <tr>\n",
              "      <th>44214</th>\n",
              "      <td>39</td>\n",
              "      <td>Private</td>\n",
              "      <td>347491</td>\n",
              "      <td>11th</td>\n",
              "      <td>7</td>\n",
              "      <td>Divorced</td>\n",
              "      <td>Craft-repair</td>\n",
              "      <td>Not-in-family</td>\n",
              "      <td>White</td>\n",
              "      <td>Male</td>\n",
              "      <td>46</td>\n",
              "      <td>United-States</td>\n",
              "      <td>&lt;=50K</td>\n",
              "    </tr>\n",
              "  </tbody>\n",
              "</table>\n",
              "<p>10701 rows × 13 columns</p>\n",
              "</div>"
            ],
            "text/plain": [
              "       age         workclass  fnlwgt  ... hours-per-week  native-country income\n",
              "11455   46  Self-emp-not-inc  246891  ...             99   United-States   >50K\n",
              "30874   27           Private  179915  ...             99   United-States  <=50K\n",
              "13327   52  Self-emp-not-inc  284648  ...             99   United-States   >50K\n",
              "44393   61           Private  158712  ...             99   United-States  <=50K\n",
              "39507   51  Self-emp-not-inc   88528  ...             99   United-States  <=50K\n",
              "...    ...               ...     ...  ...            ...             ...    ...\n",
              "27818   40           Private  226505  ...             46   United-States   >50K\n",
              "14868   33         Local-gov  203051  ...             46   United-States  <=50K\n",
              "30462   27           Private  189462  ...             46   United-States  <=50K\n",
              "4936    23           Private  345577  ...             46   United-States  <=50K\n",
              "44214   39           Private  347491  ...             46   United-States  <=50K\n",
              "\n",
              "[10701 rows x 13 columns]"
            ]
          },
          "metadata": {
            "tags": []
          },
          "execution_count": 32
        }
      ]
    },
    {
      "cell_type": "code",
      "metadata": {
        "id": "ambient-january"
      },
      "source": [
        "# changing the target to 0 and 1\n",
        "data_main['income']=data_main['income'].map({'<=50K': 0, '>50K': 1})"
      ],
      "id": "ambient-january",
      "execution_count": 33,
      "outputs": []
    },
    {
      "cell_type": "code",
      "metadata": {
        "colab": {
          "base_uri": "https://localhost:8080/",
          "height": 745
        },
        "id": "circular-hearing",
        "outputId": "e26ebea3-4e6b-4fd2-a833-6b4aa52c94aa"
      },
      "source": [
        "data_main"
      ],
      "id": "circular-hearing",
      "execution_count": 34,
      "outputs": [
        {
          "output_type": "execute_result",
          "data": {
            "text/html": [
              "<div>\n",
              "<style scoped>\n",
              "    .dataframe tbody tr th:only-of-type {\n",
              "        vertical-align: middle;\n",
              "    }\n",
              "\n",
              "    .dataframe tbody tr th {\n",
              "        vertical-align: top;\n",
              "    }\n",
              "\n",
              "    .dataframe thead th {\n",
              "        text-align: right;\n",
              "    }\n",
              "</style>\n",
              "<table border=\"1\" class=\"dataframe\">\n",
              "  <thead>\n",
              "    <tr style=\"text-align: right;\">\n",
              "      <th></th>\n",
              "      <th>age</th>\n",
              "      <th>workclass</th>\n",
              "      <th>fnlwgt</th>\n",
              "      <th>education</th>\n",
              "      <th>educational-num</th>\n",
              "      <th>marital-status</th>\n",
              "      <th>occupation</th>\n",
              "      <th>relationship</th>\n",
              "      <th>race</th>\n",
              "      <th>gender</th>\n",
              "      <th>hours-per-week</th>\n",
              "      <th>native-country</th>\n",
              "      <th>income</th>\n",
              "    </tr>\n",
              "  </thead>\n",
              "  <tbody>\n",
              "    <tr>\n",
              "      <th>0</th>\n",
              "      <td>25</td>\n",
              "      <td>Private</td>\n",
              "      <td>226802</td>\n",
              "      <td>11th</td>\n",
              "      <td>7</td>\n",
              "      <td>Never-married</td>\n",
              "      <td>Machine-op-inspct</td>\n",
              "      <td>Own-child</td>\n",
              "      <td>Black</td>\n",
              "      <td>Male</td>\n",
              "      <td>40</td>\n",
              "      <td>United-States</td>\n",
              "      <td>0</td>\n",
              "    </tr>\n",
              "    <tr>\n",
              "      <th>1</th>\n",
              "      <td>38</td>\n",
              "      <td>Private</td>\n",
              "      <td>89814</td>\n",
              "      <td>HS-grad</td>\n",
              "      <td>9</td>\n",
              "      <td>Married-civ-spouse</td>\n",
              "      <td>Farming-fishing</td>\n",
              "      <td>Husband</td>\n",
              "      <td>White</td>\n",
              "      <td>Male</td>\n",
              "      <td>50</td>\n",
              "      <td>United-States</td>\n",
              "      <td>0</td>\n",
              "    </tr>\n",
              "    <tr>\n",
              "      <th>2</th>\n",
              "      <td>28</td>\n",
              "      <td>Local-gov</td>\n",
              "      <td>336951</td>\n",
              "      <td>Assoc-acdm</td>\n",
              "      <td>12</td>\n",
              "      <td>Married-civ-spouse</td>\n",
              "      <td>Protective-serv</td>\n",
              "      <td>Husband</td>\n",
              "      <td>White</td>\n",
              "      <td>Male</td>\n",
              "      <td>40</td>\n",
              "      <td>United-States</td>\n",
              "      <td>1</td>\n",
              "    </tr>\n",
              "    <tr>\n",
              "      <th>3</th>\n",
              "      <td>44</td>\n",
              "      <td>Private</td>\n",
              "      <td>160323</td>\n",
              "      <td>Some-college</td>\n",
              "      <td>10</td>\n",
              "      <td>Married-civ-spouse</td>\n",
              "      <td>Machine-op-inspct</td>\n",
              "      <td>Husband</td>\n",
              "      <td>Black</td>\n",
              "      <td>Male</td>\n",
              "      <td>40</td>\n",
              "      <td>United-States</td>\n",
              "      <td>1</td>\n",
              "    </tr>\n",
              "    <tr>\n",
              "      <th>4</th>\n",
              "      <td>18</td>\n",
              "      <td>Private</td>\n",
              "      <td>103497</td>\n",
              "      <td>Some-college</td>\n",
              "      <td>10</td>\n",
              "      <td>Never-married</td>\n",
              "      <td>Prof-specialty</td>\n",
              "      <td>Own-child</td>\n",
              "      <td>White</td>\n",
              "      <td>Female</td>\n",
              "      <td>30</td>\n",
              "      <td>United-States</td>\n",
              "      <td>0</td>\n",
              "    </tr>\n",
              "    <tr>\n",
              "      <th>...</th>\n",
              "      <td>...</td>\n",
              "      <td>...</td>\n",
              "      <td>...</td>\n",
              "      <td>...</td>\n",
              "      <td>...</td>\n",
              "      <td>...</td>\n",
              "      <td>...</td>\n",
              "      <td>...</td>\n",
              "      <td>...</td>\n",
              "      <td>...</td>\n",
              "      <td>...</td>\n",
              "      <td>...</td>\n",
              "      <td>...</td>\n",
              "    </tr>\n",
              "    <tr>\n",
              "      <th>48837</th>\n",
              "      <td>27</td>\n",
              "      <td>Private</td>\n",
              "      <td>257302</td>\n",
              "      <td>Assoc-acdm</td>\n",
              "      <td>12</td>\n",
              "      <td>Married-civ-spouse</td>\n",
              "      <td>Tech-support</td>\n",
              "      <td>Wife</td>\n",
              "      <td>White</td>\n",
              "      <td>Female</td>\n",
              "      <td>38</td>\n",
              "      <td>United-States</td>\n",
              "      <td>0</td>\n",
              "    </tr>\n",
              "    <tr>\n",
              "      <th>48838</th>\n",
              "      <td>40</td>\n",
              "      <td>Private</td>\n",
              "      <td>154374</td>\n",
              "      <td>HS-grad</td>\n",
              "      <td>9</td>\n",
              "      <td>Married-civ-spouse</td>\n",
              "      <td>Machine-op-inspct</td>\n",
              "      <td>Husband</td>\n",
              "      <td>White</td>\n",
              "      <td>Male</td>\n",
              "      <td>40</td>\n",
              "      <td>United-States</td>\n",
              "      <td>1</td>\n",
              "    </tr>\n",
              "    <tr>\n",
              "      <th>48839</th>\n",
              "      <td>58</td>\n",
              "      <td>Private</td>\n",
              "      <td>151910</td>\n",
              "      <td>HS-grad</td>\n",
              "      <td>9</td>\n",
              "      <td>Widowed</td>\n",
              "      <td>Adm-clerical</td>\n",
              "      <td>Unmarried</td>\n",
              "      <td>White</td>\n",
              "      <td>Female</td>\n",
              "      <td>40</td>\n",
              "      <td>United-States</td>\n",
              "      <td>0</td>\n",
              "    </tr>\n",
              "    <tr>\n",
              "      <th>48840</th>\n",
              "      <td>22</td>\n",
              "      <td>Private</td>\n",
              "      <td>201490</td>\n",
              "      <td>HS-grad</td>\n",
              "      <td>9</td>\n",
              "      <td>Never-married</td>\n",
              "      <td>Adm-clerical</td>\n",
              "      <td>Own-child</td>\n",
              "      <td>White</td>\n",
              "      <td>Male</td>\n",
              "      <td>20</td>\n",
              "      <td>United-States</td>\n",
              "      <td>0</td>\n",
              "    </tr>\n",
              "    <tr>\n",
              "      <th>48841</th>\n",
              "      <td>52</td>\n",
              "      <td>Self-emp-inc</td>\n",
              "      <td>287927</td>\n",
              "      <td>HS-grad</td>\n",
              "      <td>9</td>\n",
              "      <td>Married-civ-spouse</td>\n",
              "      <td>Exec-managerial</td>\n",
              "      <td>Wife</td>\n",
              "      <td>White</td>\n",
              "      <td>Female</td>\n",
              "      <td>40</td>\n",
              "      <td>United-States</td>\n",
              "      <td>1</td>\n",
              "    </tr>\n",
              "  </tbody>\n",
              "</table>\n",
              "<p>48842 rows × 13 columns</p>\n",
              "</div>"
            ],
            "text/plain": [
              "       age     workclass  fnlwgt  ... hours-per-week  native-country income\n",
              "0       25       Private  226802  ...             40   United-States      0\n",
              "1       38       Private   89814  ...             50   United-States      0\n",
              "2       28     Local-gov  336951  ...             40   United-States      1\n",
              "3       44       Private  160323  ...             40   United-States      1\n",
              "4       18       Private  103497  ...             30   United-States      0\n",
              "...    ...           ...     ...  ...            ...             ...    ...\n",
              "48837   27       Private  257302  ...             38   United-States      0\n",
              "48838   40       Private  154374  ...             40   United-States      1\n",
              "48839   58       Private  151910  ...             40   United-States      0\n",
              "48840   22       Private  201490  ...             20   United-States      0\n",
              "48841   52  Self-emp-inc  287927  ...             40   United-States      1\n",
              "\n",
              "[48842 rows x 13 columns]"
            ]
          },
          "metadata": {
            "tags": []
          },
          "execution_count": 34
        }
      ]
    },
    {
      "cell_type": "markdown",
      "metadata": {
        "id": "confirmed-month"
      },
      "source": [
        "# Bivariate/Multi-Variate Analysis\n"
      ],
      "id": "confirmed-month"
    },
    {
      "cell_type": "code",
      "metadata": {
        "colab": {
          "base_uri": "https://localhost:8080/",
          "height": 355
        },
        "id": "pending-advancement",
        "outputId": "8659e944-b579-4a5c-b4b1-733017824b7a"
      },
      "source": [
        "sns.heatmap(data_main.corr(), annot=True, cmap=\"RdBu\")\n",
        "plt.show()"
      ],
      "id": "pending-advancement",
      "execution_count": 35,
      "outputs": [
        {
          "output_type": "display_data",
          "data": {
            "image/png": "[encoded data removed]",
            "text/plain": [
              "<Figure size 432x288 with 2 Axes>"
            ]
          },
          "metadata": {
            "tags": [],
            "needs_background": "light"
          }
        }
      ]
    },
    {
      "cell_type": "code",
      "metadata": {
        "colab": {
          "base_uri": "https://localhost:8080/"
        },
        "id": "reverse-track",
        "outputId": "cb1074e3-b7cc-4d93-ea82-14795200da26"
      },
      "source": [
        "data_main.corr()['income']"
      ],
      "id": "reverse-track",
      "execution_count": 36,
      "outputs": [
        {
          "output_type": "execute_result",
          "data": {
            "text/plain": [
              "age                0.230369\n",
              "fnlwgt            -0.006339\n",
              "educational-num    0.332613\n",
              "hours-per-week     0.227687\n",
              "income             1.000000\n",
              "Name: income, dtype: float64"
            ]
          },
          "metadata": {
            "tags": []
          },
          "execution_count": 36
        }
      ]
    },
    {
      "cell_type": "markdown",
      "metadata": {
        "id": "editorial-roulette"
      },
      "source": [
        "# Data Preparation"
      ],
      "id": "editorial-roulette"
    },
    {
      "cell_type": "markdown",
      "metadata": {
        "id": "lined-medline"
      },
      "source": [
        "# Creating Dummies for Categorical Features"
      ],
      "id": "lined-medline"
    },
    {
      "cell_type": "code",
      "metadata": {
        "colab": {
          "base_uri": "https://localhost:8080/"
        },
        "id": "orange-approval",
        "outputId": "1550f360-e4ae-4d1b-c994-b77ea5934d06"
      },
      "source": [
        "data_main.workclass.unique() #nominal Data"
      ],
      "id": "orange-approval",
      "execution_count": 37,
      "outputs": [
        {
          "output_type": "execute_result",
          "data": {
            "text/plain": [
              "array(['Private', 'Local-gov', 'Self-emp-not-inc', 'Federal-gov',\n",
              "       'State-gov', 'Self-emp-inc', 'Without-pay', 'Never-worked'],\n",
              "      dtype=object)"
            ]
          },
          "metadata": {
            "tags": []
          },
          "execution_count": 37
        }
      ]
    },
    {
      "cell_type": "code",
      "metadata": {
        "colab": {
          "base_uri": "https://localhost:8080/"
        },
        "id": "cathedral-negotiation",
        "outputId": "051148ed-f0fb-4a78-de8e-9cf67c318540"
      },
      "source": [
        "data_main['marital-status'].unique() #nominal Data"
      ],
      "id": "cathedral-negotiation",
      "execution_count": 38,
      "outputs": [
        {
          "output_type": "execute_result",
          "data": {
            "text/plain": [
              "array(['Never-married', 'Married-civ-spouse', 'Widowed', 'Divorced',\n",
              "       'Separated', 'Married-spouse-absent', 'Married-AF-spouse'],\n",
              "      dtype=object)"
            ]
          },
          "metadata": {
            "tags": []
          },
          "execution_count": 38
        }
      ]
    },
    {
      "cell_type": "code",
      "metadata": {
        "colab": {
          "base_uri": "https://localhost:8080/"
        },
        "id": "arbitrary-armstrong",
        "outputId": "8ea5616f-062f-4ab6-b1e9-0999de6e2485"
      },
      "source": [
        "data_main.education.unique()#Ordinal Data "
      ],
      "id": "arbitrary-armstrong",
      "execution_count": 39,
      "outputs": [
        {
          "output_type": "execute_result",
          "data": {
            "text/plain": [
              "array(['11th', 'HS-grad', 'Assoc-acdm', 'Some-college', '10th',\n",
              "       'Prof-school', '7th-8th', 'Bachelors', 'Masters', 'Doctorate',\n",
              "       '5th-6th', 'Assoc-voc', '9th', '12th', '1st-4th', 'Preschool'],\n",
              "      dtype=object)"
            ]
          },
          "metadata": {
            "tags": []
          },
          "execution_count": 39
        }
      ]
    },
    {
      "cell_type": "code",
      "metadata": {
        "colab": {
          "base_uri": "https://localhost:8080/"
        },
        "id": "regular-integration",
        "outputId": "af91277b-eb9f-496e-de85-e7decc4c5928"
      },
      "source": [
        "data_main.occupation.unique()#nominal Data"
      ],
      "id": "regular-integration",
      "execution_count": 40,
      "outputs": [
        {
          "output_type": "execute_result",
          "data": {
            "text/plain": [
              "array(['Machine-op-inspct', 'Farming-fishing', 'Protective-serv',\n",
              "       'Prof-specialty', 'Other-service', 'Craft-repair', 'Adm-clerical',\n",
              "       'Exec-managerial', 'Tech-support', 'Sales', 'Priv-house-serv',\n",
              "       'Transport-moving', 'Handlers-cleaners', 'Armed-Forces'],\n",
              "      dtype=object)"
            ]
          },
          "metadata": {
            "tags": []
          },
          "execution_count": 40
        }
      ]
    },
    {
      "cell_type": "code",
      "metadata": {
        "colab": {
          "base_uri": "https://localhost:8080/"
        },
        "id": "motivated-baking",
        "outputId": "6375a4b5-0a27-4131-d529-bf7290c797e8"
      },
      "source": [
        "data_main.relationship.unique() #nominal Data"
      ],
      "id": "motivated-baking",
      "execution_count": 41,
      "outputs": [
        {
          "output_type": "execute_result",
          "data": {
            "text/plain": [
              "array(['Own-child', 'Husband', 'Not-in-family', 'Unmarried', 'Wife',\n",
              "       'Other-relative'], dtype=object)"
            ]
          },
          "metadata": {
            "tags": []
          },
          "execution_count": 41
        }
      ]
    },
    {
      "cell_type": "code",
      "metadata": {
        "colab": {
          "base_uri": "https://localhost:8080/"
        },
        "id": "engaging-profession",
        "outputId": "390d2c70-df63-4a54-c843-ccc080a3a09c"
      },
      "source": [
        "data_main.race.unique() #nominal Data"
      ],
      "id": "engaging-profession",
      "execution_count": 42,
      "outputs": [
        {
          "output_type": "execute_result",
          "data": {
            "text/plain": [
              "array(['Black', 'White', 'Asian-Pac-Islander', 'Other',\n",
              "       'Amer-Indian-Eskimo'], dtype=object)"
            ]
          },
          "metadata": {
            "tags": []
          },
          "execution_count": 42
        }
      ]
    },
    {
      "cell_type": "code",
      "metadata": {
        "colab": {
          "base_uri": "https://localhost:8080/"
        },
        "id": "fifth-brunei",
        "outputId": "5fe585dd-1d83-4388-b9c9-a6a542f4e66c"
      },
      "source": [
        "data_main.gender.unique() #nominal Data"
      ],
      "id": "fifth-brunei",
      "execution_count": 43,
      "outputs": [
        {
          "output_type": "execute_result",
          "data": {
            "text/plain": [
              "array(['Male', 'Female'], dtype=object)"
            ]
          },
          "metadata": {
            "tags": []
          },
          "execution_count": 43
        }
      ]
    },
    {
      "cell_type": "code",
      "metadata": {
        "colab": {
          "base_uri": "https://localhost:8080/"
        },
        "id": "honest-fairy",
        "outputId": "e21ae0f2-5451-451b-bcef-a7e6d170b471"
      },
      "source": [
        "data_main['native-country'].unique() #nominal Data"
      ],
      "id": "honest-fairy",
      "execution_count": 44,
      "outputs": [
        {
          "output_type": "execute_result",
          "data": {
            "text/plain": [
              "array(['United-States', 'Peru', 'Guatemala', 'Mexico',\n",
              "       'Dominican-Republic', 'Ireland', 'Germany', 'Philippines',\n",
              "       'Thailand', 'Haiti', 'El-Salvador', 'Puerto-Rico', 'Vietnam',\n",
              "       'South', 'Columbia', 'Japan', 'India', 'Cambodia', 'Poland',\n",
              "       'Laos', 'England', 'Cuba', 'Taiwan', 'Italy', 'Canada', 'Portugal',\n",
              "       'China', 'Nicaragua', 'Honduras', 'Iran', 'Scotland', 'Jamaica',\n",
              "       'Ecuador', 'Yugoslavia', 'Hungary', 'Hong', 'Greece',\n",
              "       'Trinadad&Tobago', 'Outlying-US(Guam-USVI-etc)', 'France',\n",
              "       'Holand-Netherlands'], dtype=object)"
            ]
          },
          "metadata": {
            "tags": []
          },
          "execution_count": 44
        }
      ]
    },
    {
      "cell_type": "code",
      "metadata": {
        "id": "prescribed-matthew"
      },
      "source": [
        "from sklearn.preprocessing import LabelEncoder\n",
        "categorical = ['workclass','education', 'marital-status', 'occupation', 'relationship',\n",
        "               'race', 'gender','native-country']\n",
        "label_encoder = LabelEncoder()\n",
        "for col in categorical:\n",
        "    label_encoder.fit(data_main[col])\n",
        "    data_main[col] = label_encoder.transform(data_main[col])"
      ],
      "id": "prescribed-matthew",
      "execution_count": 45,
      "outputs": []
    },
    {
      "cell_type": "code",
      "metadata": {
        "colab": {
          "base_uri": "https://localhost:8080/",
          "height": 473
        },
        "id": "moving-repeat",
        "outputId": "06f2cb26-b1d5-4e55-d211-d4bb4d894ef7"
      },
      "source": [
        " data_main"
      ],
      "id": "moving-repeat",
      "execution_count": 46,
      "outputs": [
        {
          "output_type": "execute_result",
          "data": {
            "text/html": [
              "<div>\n",
              "<style scoped>\n",
              "    .dataframe tbody tr th:only-of-type {\n",
              "        vertical-align: middle;\n",
              "    }\n",
              "\n",
              "    .dataframe tbody tr th {\n",
              "        vertical-align: top;\n",
              "    }\n",
              "\n",
              "    .dataframe thead th {\n",
              "        text-align: right;\n",
              "    }\n",
              "</style>\n",
              "<table border=\"1\" class=\"dataframe\">\n",
              "  <thead>\n",
              "    <tr style=\"text-align: right;\">\n",
              "      <th></th>\n",
              "      <th>age</th>\n",
              "      <th>workclass</th>\n",
              "      <th>fnlwgt</th>\n",
              "      <th>education</th>\n",
              "      <th>educational-num</th>\n",
              "      <th>marital-status</th>\n",
              "      <th>occupation</th>\n",
              "      <th>relationship</th>\n",
              "      <th>race</th>\n",
              "      <th>gender</th>\n",
              "      <th>hours-per-week</th>\n",
              "      <th>native-country</th>\n",
              "      <th>income</th>\n",
              "    </tr>\n",
              "  </thead>\n",
              "  <tbody>\n",
              "    <tr>\n",
              "      <th>0</th>\n",
              "      <td>25</td>\n",
              "      <td>3</td>\n",
              "      <td>226802</td>\n",
              "      <td>1</td>\n",
              "      <td>7</td>\n",
              "      <td>4</td>\n",
              "      <td>6</td>\n",
              "      <td>3</td>\n",
              "      <td>2</td>\n",
              "      <td>1</td>\n",
              "      <td>40</td>\n",
              "      <td>38</td>\n",
              "      <td>0</td>\n",
              "    </tr>\n",
              "    <tr>\n",
              "      <th>1</th>\n",
              "      <td>38</td>\n",
              "      <td>3</td>\n",
              "      <td>89814</td>\n",
              "      <td>11</td>\n",
              "      <td>9</td>\n",
              "      <td>2</td>\n",
              "      <td>4</td>\n",
              "      <td>0</td>\n",
              "      <td>4</td>\n",
              "      <td>1</td>\n",
              "      <td>50</td>\n",
              "      <td>38</td>\n",
              "      <td>0</td>\n",
              "    </tr>\n",
              "    <tr>\n",
              "      <th>2</th>\n",
              "      <td>28</td>\n",
              "      <td>1</td>\n",
              "      <td>336951</td>\n",
              "      <td>7</td>\n",
              "      <td>12</td>\n",
              "      <td>2</td>\n",
              "      <td>10</td>\n",
              "      <td>0</td>\n",
              "      <td>4</td>\n",
              "      <td>1</td>\n",
              "      <td>40</td>\n",
              "      <td>38</td>\n",
              "      <td>1</td>\n",
              "    </tr>\n",
              "    <tr>\n",
              "      <th>3</th>\n",
              "      <td>44</td>\n",
              "      <td>3</td>\n",
              "      <td>160323</td>\n",
              "      <td>15</td>\n",
              "      <td>10</td>\n",
              "      <td>2</td>\n",
              "      <td>6</td>\n",
              "      <td>0</td>\n",
              "      <td>2</td>\n",
              "      <td>1</td>\n",
              "      <td>40</td>\n",
              "      <td>38</td>\n",
              "      <td>1</td>\n",
              "    </tr>\n",
              "    <tr>\n",
              "      <th>4</th>\n",
              "      <td>18</td>\n",
              "      <td>3</td>\n",
              "      <td>103497</td>\n",
              "      <td>15</td>\n",
              "      <td>10</td>\n",
              "      <td>4</td>\n",
              "      <td>9</td>\n",
              "      <td>3</td>\n",
              "      <td>4</td>\n",
              "      <td>0</td>\n",
              "      <td>30</td>\n",
              "      <td>38</td>\n",
              "      <td>0</td>\n",
              "    </tr>\n",
              "    <tr>\n",
              "      <th>...</th>\n",
              "      <td>...</td>\n",
              "      <td>...</td>\n",
              "      <td>...</td>\n",
              "      <td>...</td>\n",
              "      <td>...</td>\n",
              "      <td>...</td>\n",
              "      <td>...</td>\n",
              "      <td>...</td>\n",
              "      <td>...</td>\n",
              "      <td>...</td>\n",
              "      <td>...</td>\n",
              "      <td>...</td>\n",
              "      <td>...</td>\n",
              "    </tr>\n",
              "    <tr>\n",
              "      <th>48837</th>\n",
              "      <td>27</td>\n",
              "      <td>3</td>\n",
              "      <td>257302</td>\n",
              "      <td>7</td>\n",
              "      <td>12</td>\n",
              "      <td>2</td>\n",
              "      <td>12</td>\n",
              "      <td>5</td>\n",
              "      <td>4</td>\n",
              "      <td>0</td>\n",
              "      <td>38</td>\n",
              "      <td>38</td>\n",
              "      <td>0</td>\n",
              "    </tr>\n",
              "    <tr>\n",
              "      <th>48838</th>\n",
              "      <td>40</td>\n",
              "      <td>3</td>\n",
              "      <td>154374</td>\n",
              "      <td>11</td>\n",
              "      <td>9</td>\n",
              "      <td>2</td>\n",
              "      <td>6</td>\n",
              "      <td>0</td>\n",
              "      <td>4</td>\n",
              "      <td>1</td>\n",
              "      <td>40</td>\n",
              "      <td>38</td>\n",
              "      <td>1</td>\n",
              "    </tr>\n",
              "    <tr>\n",
              "      <th>48839</th>\n",
              "      <td>58</td>\n",
              "      <td>3</td>\n",
              "      <td>151910</td>\n",
              "      <td>11</td>\n",
              "      <td>9</td>\n",
              "      <td>6</td>\n",
              "      <td>0</td>\n",
              "      <td>4</td>\n",
              "      <td>4</td>\n",
              "      <td>0</td>\n",
              "      <td>40</td>\n",
              "      <td>38</td>\n",
              "      <td>0</td>\n",
              "    </tr>\n",
              "    <tr>\n",
              "      <th>48840</th>\n",
              "      <td>22</td>\n",
              "      <td>3</td>\n",
              "      <td>201490</td>\n",
              "      <td>11</td>\n",
              "      <td>9</td>\n",
              "      <td>4</td>\n",
              "      <td>0</td>\n",
              "      <td>3</td>\n",
              "      <td>4</td>\n",
              "      <td>1</td>\n",
              "      <td>20</td>\n",
              "      <td>38</td>\n",
              "      <td>0</td>\n",
              "    </tr>\n",
              "    <tr>\n",
              "      <th>48841</th>\n",
              "      <td>52</td>\n",
              "      <td>4</td>\n",
              "      <td>287927</td>\n",
              "      <td>11</td>\n",
              "      <td>9</td>\n",
              "      <td>2</td>\n",
              "      <td>3</td>\n",
              "      <td>5</td>\n",
              "      <td>4</td>\n",
              "      <td>0</td>\n",
              "      <td>40</td>\n",
              "      <td>38</td>\n",
              "      <td>1</td>\n",
              "    </tr>\n",
              "  </tbody>\n",
              "</table>\n",
              "<p>48842 rows × 13 columns</p>\n",
              "</div>"
            ],
            "text/plain": [
              "       age  workclass  fnlwgt  ...  hours-per-week  native-country  income\n",
              "0       25          3  226802  ...              40              38       0\n",
              "1       38          3   89814  ...              50              38       0\n",
              "2       28          1  336951  ...              40              38       1\n",
              "3       44          3  160323  ...              40              38       1\n",
              "4       18          3  103497  ...              30              38       0\n",
              "...    ...        ...     ...  ...             ...             ...     ...\n",
              "48837   27          3  257302  ...              38              38       0\n",
              "48838   40          3  154374  ...              40              38       1\n",
              "48839   58          3  151910  ...              40              38       0\n",
              "48840   22          3  201490  ...              20              38       0\n",
              "48841   52          4  287927  ...              40              38       1\n",
              "\n",
              "[48842 rows x 13 columns]"
            ]
          },
          "metadata": {
            "tags": []
          },
          "execution_count": 46
        }
      ]
    },
    {
      "cell_type": "code",
      "metadata": {
        "colab": {
          "base_uri": "https://localhost:8080/",
          "height": 355
        },
        "id": "occasional-bicycle",
        "outputId": "30de095e-c5f3-4b02-bf81-55729b3c87a6"
      },
      "source": [
        "sns.heatmap(data_main.corr(), annot=True, cmap=\"RdBu\")\n",
        "plt.show()"
      ],
      "id": "occasional-bicycle",
      "execution_count": 47,
      "outputs": [
        {
          "output_type": "display_data",
          "data": {
            "image/png": "[encoded data removed]",
            "text/plain": [
              "<Figure size 432x288 with 2 Axes>"
            ]
          },
          "metadata": {
            "tags": [],
            "needs_background": "light"
          }
        }
      ]
    },
    {
      "cell_type": "code",
      "metadata": {
        "colab": {
          "base_uri": "https://localhost:8080/"
        },
        "id": "promising-photographer",
        "outputId": "c76070b2-7ae9-45a6-a6fe-0e9345b569a8"
      },
      "source": [
        "data_main.corr()['income']"
      ],
      "id": "promising-photographer",
      "execution_count": 48,
      "outputs": [
        {
          "output_type": "execute_result",
          "data": {
            "text/plain": [
              "age                0.230369\n",
              "workclass         -0.000511\n",
              "fnlwgt            -0.006339\n",
              "education          0.080091\n",
              "educational-num    0.332613\n",
              "marital-status    -0.199072\n",
              "occupation         0.032550\n",
              "relationship      -0.253214\n",
              "race               0.070934\n",
              "gender             0.214628\n",
              "hours-per-week     0.227687\n",
              "native-country     0.020375\n",
              "income             1.000000\n",
              "Name: income, dtype: float64"
            ]
          },
          "metadata": {
            "tags": []
          },
          "execution_count": 48
        }
      ]
    },
    {
      "cell_type": "code",
      "metadata": {
        "id": "outstanding-standing"
      },
      "source": [
        "from sklearn.model_selection import train_test_split\n",
        "from sklearn.preprocessing import StandardScaler \n",
        "from sklearn.model_selection import cross_val_score"
      ],
      "id": "outstanding-standing",
      "execution_count": 49,
      "outputs": []
    },
    {
      "cell_type": "code",
      "metadata": {
        "id": "weird-pastor"
      },
      "source": [
        "# Separating target variable and its features\n",
        "y =  data_main['income']\n",
        "X =  data_main.drop('income',axis=1)"
      ],
      "id": "weird-pastor",
      "execution_count": 50,
      "outputs": []
    },
    {
      "cell_type": "markdown",
      "metadata": {
        "id": "residential-ukraine"
      },
      "source": [
        "# To avoid Data leakage"
      ],
      "id": "residential-ukraine"
    },
    {
      "cell_type": "code",
      "metadata": {
        "id": "arranged-mount"
      },
      "source": [
        "scaler =StandardScaler()\n",
        "\n",
        "X_scaled = scaler.fit_transform(X)"
      ],
      "id": "arranged-mount",
      "execution_count": 51,
      "outputs": []
    },
    {
      "cell_type": "markdown",
      "metadata": {
        "id": "entitled-arbor"
      },
      "source": [
        "# Train-Test Split"
      ],
      "id": "entitled-arbor"
    },
    {
      "cell_type": "code",
      "metadata": {
        "colab": {
          "base_uri": "https://localhost:8080/"
        },
        "id": "stylish-failing",
        "outputId": "cd9b5cca-c418-43fe-e388-89d44bc3c35a"
      },
      "source": [
        "X_train, X_test, y_train, y_test = train_test_split(X_scaled, y, test_size=0.3, random_state=1)\n",
        "print(\"x train: \",X_train.shape)\n",
        "print(\"x test: \",X_test.shape)\n",
        "print(\"y train: \",y_train.shape)\n",
        "print(\"y test: \",y_test.shape)"
      ],
      "id": "stylish-failing",
      "execution_count": 52,
      "outputs": [
        {
          "output_type": "stream",
          "text": [
            "x train:  (34189, 12)\n",
            "x test:  (14653, 12)\n",
            "y train:  (34189,)\n",
            "y test:  (14653,)\n"
          ],
          "name": "stdout"
        }
      ]
    },
    {
      "cell_type": "markdown",
      "metadata": {
        "id": "subtle-adrian"
      },
      "source": [
        "# Converting to a balanced dataset"
      ],
      "id": "subtle-adrian"
    },
    {
      "cell_type": "code",
      "metadata": {
        "colab": {
          "base_uri": "https://localhost:8080/"
        },
        "id": "declared-reynolds",
        "outputId": "109ebe14-7944-45c5-8372-6f25a5bb595a"
      },
      "source": [
        "from imblearn.over_sampling import SMOTE\n",
        "#transform the dataset\n",
        "oversample = SMOTE()\n",
        "X_new,y_new= oversample.fit_resample(X_train,y_train)"
      ],
      "id": "declared-reynolds",
      "execution_count": 53,
      "outputs": [
        {
          "output_type": "stream",
          "text": [
            "/usr/local/lib/python3.7/dist-packages/sklearn/externals/six.py:31: FutureWarning: The module is deprecated in version 0.21 and will be removed in version 0.23 since we've dropped support for Python 2.7. Please rely on the official version of six (https://pypi.org/project/six/).\n",
            "  \"(https://pypi.org/project/six/).\", FutureWarning)\n",
            "/usr/local/lib/python3.7/dist-packages/sklearn/utils/deprecation.py:144: FutureWarning: The sklearn.neighbors.base module is  deprecated in version 0.22 and will be removed in version 0.24. The corresponding classes / functions should instead be imported from sklearn.neighbors. Anything that cannot be imported from sklearn.neighbors is now part of the private API.\n",
            "  warnings.warn(message, FutureWarning)\n",
            "/usr/local/lib/python3.7/dist-packages/sklearn/utils/deprecation.py:87: FutureWarning: Function safe_indexing is deprecated; safe_indexing is deprecated in version 0.22 and will be removed in version 0.24.\n",
            "  warnings.warn(msg, category=FutureWarning)\n"
          ],
          "name": "stderr"
        }
      ]
    },
    {
      "cell_type": "code",
      "metadata": {
        "colab": {
          "base_uri": "https://localhost:8080/"
        },
        "id": "QhHW7M-Ok_K_",
        "outputId": "fc1fcbae-101f-4a25-c201-194ea31ce316"
      },
      "source": [
        "pd.DataFrame(y_new).value_counts()"
      ],
      "id": "QhHW7M-Ok_K_",
      "execution_count": 54,
      "outputs": [
        {
          "output_type": "execute_result",
          "data": {
            "text/plain": [
              "1    26043\n",
              "0    26043\n",
              "dtype: int64"
            ]
          },
          "metadata": {
            "tags": []
          },
          "execution_count": 54
        }
      ]
    },
    {
      "cell_type": "markdown",
      "metadata": {
        "id": "adequate-nightlife"
      },
      "source": [
        "# Model Creation/Evaluation\n",
        "\n",
        "Applying classification models\n",
        "\n",
        "1.Logistic Regression\n",
        "\n",
        "2.KNN\n",
        "\n",
        "3.Decision tree classifier\n",
        "\n",
        "4.Random Forest classifier\n",
        "\n",
        "5..XGB\n",
        "\n",
        "6.SVM\n"
      ],
      "id": "adequate-nightlife"
    },
    {
      "cell_type": "code",
      "metadata": {
        "id": "trained-roads"
      },
      "source": [
        "from sklearn.metrics import accuracy_score, confusion_matrix\n",
        "from sklearn.metrics import  roc_curve, roc_auc_score\n",
        "from sklearn.model_selection import RandomizedSearchCV"
      ],
      "id": "trained-roads",
      "execution_count": 55,
      "outputs": []
    },
    {
      "cell_type": "code",
      "metadata": {
        "id": "pursuant-automation"
      },
      "source": [
        "CV =[]\n",
        "train_accuracy = []\n",
        "test_accuracy = []\n",
        "precisionscore=[]\n",
        "Recallscore=[]\n",
        "f1score=[]\n",
        "auc=[]\n",
        "\n",
        "def  Income_Prediction(model,model_name):\n",
        "    # Training model\n",
        "    model.fit(X_new,y_new)\n",
        "            \n",
        "    # accuracy score of train set\n",
        "    y_pred_train = model.predict(X_new)\n",
        "    train_accuracy_model = accuracy_score(y_new,y_pred_train)\n",
        "    train_accuracy.append(round(train_accuracy_model,2))\n",
        "    \n",
        "    # accuracy score of test set\n",
        "    y_pred_test = model.predict(X_test)\n",
        "    test_accuracy_model = accuracy_score(y_test,y_pred_test)\n",
        "    test_accuracy.append(round(test_accuracy_model,2))\n",
        "    \n",
        "    # accuracy score of train set using Cross validation\n",
        "    cross_val = cross_val_score(model ,X_new,y_new ,cv=5)\n",
        "    cv_mean = cross_val.mean()\n",
        "    CV.append(round(cv_mean,2))\n",
        "    \n",
        "    #confusion matrix\n",
        "    conf_mat = confusion_matrix(y_test, y_pred_test)\n",
        "    true_positive = conf_mat[0][0]\n",
        "    false_positive = conf_mat[0][1]\n",
        "    false_negative = conf_mat[1][0]\n",
        "    true_negative = conf_mat[1][1]\n",
        "    Accuracy = (true_positive + true_negative) / (true_positive +false_positive + false_negative + true_negative)\n",
        "    # Precison\n",
        "    Precision = true_positive/(true_positive+false_positive)\n",
        "    precisionscore.append(round(Precision,2))\n",
        "    # Recall\n",
        "    Recall = true_positive/(true_positive+false_negative)\n",
        "    Recallscore.append(round(Recall,2)) \n",
        "    # f1\n",
        "    f1=2*((Precision * Recall )) /(Precision + Recall)\n",
        "    f1score.append(round(f1,2)) \n",
        "    # Area Under Curve\n",
        "    auc_value = roc_auc_score(y_test,y_pred_test)\n",
        "    auc.append(round(auc_value,4))\n",
        "      # Printing results\n",
        "    print(\"Train accuracy :\",round(train_accuracy_model,2))\n",
        "    print(\"Test accuracy :\",round(test_accuracy_model,2))\n",
        "    print(\"Train CV scores :\",cross_val)\n",
        "    print(\"Train CV mean :\",round(cv_mean,2))\n",
        "    print(\"confusion_matrix:\",conf_mat)\n",
        "    print(\"Accuracy:\",Accuracy)\n",
        "    print(\"Precision:\",Precision)\n",
        "    print(\"Recall:\",Recall)\n",
        "    print(\"F1score:\",f1)\n",
        "    print(\"Train auc_value :\",auc_value)\n",
        "    \n",
        "    \n",
        "    # Plotting Graphs ROC & AUC CURVE\n",
        "    y_pred_prob = model.predict_proba(X_test)\n",
        "    y_pred_prob[:,1]\n",
        "    fpr, tpr, thresholds = roc_curve(y_test, y_pred_prob[:,1])\n",
        "    plt.plot(fpr, tpr, color='orange',label='ROC Curve  (AUC = %0.2f)' % (auc_value))\n",
        "    plt.plot([0, 1], [0, 1], color='darkblue', linestyle='--',label=' Random ROC curve')\n",
        "    plt.xlabel('False Positive Rate')\n",
        "    plt.ylabel('True Positive Rate')\n",
        "    plt.title('Receiver Operating Characteristic (ROC) Curve')\n",
        "    plt.legend()\n",
        "    plt.show()"
      ],
      "id": "pursuant-automation",
      "execution_count": 56,
      "outputs": []
    },
    {
      "cell_type": "markdown",
      "metadata": {
        "id": "optional-claim"
      },
      "source": [
        "# 1.Logistic Regression"
      ],
      "id": "optional-claim"
    },
    {
      "cell_type": "code",
      "metadata": {
        "id": "statistical-thesaurus"
      },
      "source": [
        "from sklearn.linear_model  import  LogisticRegression"
      ],
      "id": "statistical-thesaurus",
      "execution_count": 57,
      "outputs": []
    },
    {
      "cell_type": "code",
      "metadata": {
        "id": "functioning-visitor"
      },
      "source": [
        "log_reg = LogisticRegression()"
      ],
      "id": "functioning-visitor",
      "execution_count": 58,
      "outputs": []
    },
    {
      "cell_type": "code",
      "metadata": {
        "colab": {
          "base_uri": "https://localhost:8080/",
          "height": 488
        },
        "id": "seven-flour",
        "scrolled": true,
        "outputId": "f2113454-3c5e-4dca-b83d-3163214be019"
      },
      "source": [
        "Income_Prediction(log_reg,\"LogisticRegression.pkl\")"
      ],
      "id": "seven-flour",
      "execution_count": 59,
      "outputs": [
        {
          "output_type": "stream",
          "text": [
            "Train accuracy : 0.75\n",
            "Test accuracy : 0.73\n",
            "Train CV scores : [0.75052793 0.74848805 0.7469521  0.74733609 0.75280791]\n",
            "Train CV mean : 0.75\n",
            "confusion_matrix: [[8048 3064]\n",
            " [ 827 2714]]\n",
            "Accuracy: 0.7344571077595031\n",
            "Precision: 0.7242620590352772\n",
            "Recall: 0.9068169014084507\n",
            "F1score: 0.805323460249162\n",
            "Train auc_value : 0.7453561071793161\n"
          ],
          "name": "stdout"
        },
        {
          "output_type": "display_data",
          "data": {
            "image/png": "[encoded data removed]",
            "text/plain": [
              "<Figure size 432x288 with 1 Axes>"
            ]
          },
          "metadata": {
            "tags": [],
            "needs_background": "light"
          }
        }
      ]
    },
    {
      "cell_type": "markdown",
      "metadata": {
        "id": "radical-imaging"
      },
      "source": [
        "# 2.KNN"
      ],
      "id": "radical-imaging"
    },
    {
      "cell_type": "code",
      "metadata": {
        "id": "dynamic-naples"
      },
      "source": [
        "from sklearn.neighbors import KNeighborsClassifier"
      ],
      "id": "dynamic-naples",
      "execution_count": 60,
      "outputs": []
    },
    {
      "cell_type": "code",
      "metadata": {
        "colab": {
          "base_uri": "https://localhost:8080/"
        },
        "id": "becoming-encounter",
        "outputId": "418acb12-f61f-4f6b-f33b-7c2a9ffd6383"
      },
      "source": [
        "knn = KNeighborsClassifier()\n",
        "# we are tuning the hyperparameters right now, we are passing the different values for both parameters\n",
        "param_grid = { 'algorithm' : ['ball_tree', 'kd_tree', 'brute'],\n",
        "               'leaf_size' : [18,20,25,27,30,32,34],\n",
        "               'n_neighbors' : [3,5,7,9,10,11,12,13]\n",
        "              }\n",
        "rnd_search = RandomizedSearchCV(KNeighborsClassifier(), param_grid, n_iter =10, cv=9)\n",
        "rnd_search.fit(X_new,y_new)"
      ],
      "id": "becoming-encounter",
      "execution_count": 61,
      "outputs": [
        {
          "output_type": "execute_result",
          "data": {
            "text/plain": [
              "RandomizedSearchCV(cv=9, error_score=nan,\n",
              "                   estimator=KNeighborsClassifier(algorithm='auto',\n",
              "                                                  leaf_size=30,\n",
              "                                                  metric='minkowski',\n",
              "                                                  metric_params=None,\n",
              "                                                  n_jobs=None, n_neighbors=5,\n",
              "                                                  p=2, weights='uniform'),\n",
              "                   iid='deprecated', n_iter=10, n_jobs=None,\n",
              "                   param_distributions={'algorithm': ['ball_tree', 'kd_tree',\n",
              "                                                      'brute'],\n",
              "                                        'leaf_size': [18, 20, 25, 27, 30, 32,\n",
              "                                                      34],\n",
              "                                        'n_neighbors': [3, 5, 7, 9, 10, 11, 12,\n",
              "                                                        13]},\n",
              "                   pre_dispatch='2*n_jobs', random_state=None, refit=True,\n",
              "                   return_train_score=False, scoring=None, verbose=0)"
            ]
          },
          "metadata": {
            "tags": []
          },
          "execution_count": 61
        }
      ]
    },
    {
      "cell_type": "code",
      "metadata": {
        "colab": {
          "base_uri": "https://localhost:8080/"
        },
        "id": "jLiaIyshKUBj",
        "outputId": "bad0f788-c198-4a20-fcd9-9d9b9963ea16"
      },
      "source": [
        "# let's see the  best parameters according to randomsearch\n",
        "rnd_search.best_params_\n"
      ],
      "id": "jLiaIyshKUBj",
      "execution_count": 62,
      "outputs": [
        {
          "output_type": "execute_result",
          "data": {
            "text/plain": [
              "{'algorithm': 'ball_tree', 'leaf_size': 18, 'n_neighbors': 3}"
            ]
          },
          "metadata": {
            "tags": []
          },
          "execution_count": 62
        }
      ]
    },
    {
      "cell_type": "code",
      "metadata": {
        "id": "C3Eh9FzOKZrr"
      },
      "source": [
        "# we will use the best parameters in our k-NN algorithm and check if accuracy is increasing.\n",
        "knn_1 = KNeighborsClassifier(algorithm = 'ball_tree', leaf_size =18, n_neighbors =3)"
      ],
      "id": "C3Eh9FzOKZrr",
      "execution_count": 63,
      "outputs": []
    },
    {
      "cell_type": "code",
      "metadata": {
        "colab": {
          "base_uri": "https://localhost:8080/",
          "height": 488
        },
        "id": "oN2Jjif_Kmux",
        "outputId": "4945312c-d13a-4958-ddec-f1eb12f68662"
      },
      "source": [
        "Income_Prediction(knn_1,\"knn_1.pkl\")"
      ],
      "id": "oN2Jjif_Kmux",
      "execution_count": 64,
      "outputs": [
        {
          "output_type": "stream",
          "text": [
            "Train accuracy : 0.92\n",
            "Test accuracy : 0.76\n",
            "Train CV scores : [0.84929929 0.85245272 0.86426034 0.86186042 0.86800422]\n",
            "Train CV mean : 0.86\n",
            "confusion_matrix: [[8654 2458]\n",
            " [1000 2541]]\n",
            "Accuracy: 0.7640073705043335\n",
            "Precision: 0.7787976961843053\n",
            "Recall: 0.8964159933706236\n",
            "F1score: 0.8334778002504093\n",
            "Train auc_value : 0.748195798106273\n"
          ],
          "name": "stdout"
        },
        {
          "output_type": "display_data",
          "data": {
            "image/png": "[encoded data removed]",
            "text/plain": [
              "<Figure size 432x288 with 1 Axes>"
            ]
          },
          "metadata": {
            "tags": [],
            "needs_background": "light"
          }
        }
      ]
    },
    {
      "cell_type": "markdown",
      "metadata": {
        "id": "DHvdiViK9vKu"
      },
      "source": [
        "# **Decision tree**"
      ],
      "id": "DHvdiViK9vKu"
    },
    {
      "cell_type": "code",
      "metadata": {
        "id": "d0ChB4IczrXd"
      },
      "source": [
        "from sklearn.tree import DecisionTreeClassifier\n",
        "DT=DecisionTreeClassifier()"
      ],
      "id": "d0ChB4IczrXd",
      "execution_count": 65,
      "outputs": []
    },
    {
      "cell_type": "code",
      "metadata": {
        "colab": {
          "base_uri": "https://localhost:8080/",
          "height": 488
        },
        "id": "cTkT-i3x0Pmd",
        "outputId": "778f898f-e4f7-4290-c7ef-2ae3c04b7836"
      },
      "source": [
        "Income_Prediction(DT,\"DT.pkl\")"
      ],
      "id": "cTkT-i3x0Pmd",
      "execution_count": 66,
      "outputs": [
        {
          "output_type": "stream",
          "text": [
            "Train accuracy : 1.0\n",
            "Test accuracy : 0.77\n",
            "Train CV scores : [0.75091188 0.80397427 0.86781223 0.86915619 0.87443602]\n",
            "Train CV mean : 0.83\n",
            "confusion_matrix: [[9226 1886]\n",
            " [1452 2089]]\n",
            "Accuracy: 0.7721968197638709\n",
            "Precision: 0.8302735781137509\n",
            "Recall: 0.8640194793032403\n",
            "F1score: 0.846810463515374\n",
            "Train auc_value : 0.7101099604773781\n"
          ],
          "name": "stdout"
        },
        {
          "output_type": "display_data",
          "data": {
            "image/png": "[encoded data removed]",
            "text/plain": [
              "<Figure size 432x288 with 1 Axes>"
            ]
          },
          "metadata": {
            "tags": [],
            "needs_background": "light"
          }
        }
      ]
    },
    {
      "cell_type": "markdown",
      "metadata": {
        "id": "KEtirHv89l6-"
      },
      "source": [
        "# **Random forest**"
      ],
      "id": "KEtirHv89l6-"
    },
    {
      "cell_type": "code",
      "metadata": {
        "colab": {
          "base_uri": "https://localhost:8080/"
        },
        "id": "AwPyI6i4K7Y2",
        "outputId": "799e9902-04c8-42c6-cbd2-2a09cf01c6f2"
      },
      "source": [
        "from sklearn.ensemble import RandomForestClassifier\n",
        "rand_clf = RandomForestClassifier(random_state=6)\n",
        "# we are tuning the hyperparameters right now, we are passing the different values for both parameters\n",
        "grid_param = {\n",
        "    \"n_estimators\" : [90,100,115,130],\n",
        "    'criterion': ['gini', 'entropy'],\n",
        "    'max_depth' : range(2,20,1),\n",
        "    'min_samples_leaf' : range(1,10,1),\n",
        "    'min_samples_split': range(2,10,1),\n",
        "    'max_features' : ['auto','log2']\n",
        "}\n",
        "rnd_search = RandomizedSearchCV(RandomForestClassifier(), grid_param, n_iter =10, cv=9)\n",
        "rnd_search.fit(X_new,y_new)"
      ],
      "id": "AwPyI6i4K7Y2",
      "execution_count": 67,
      "outputs": [
        {
          "output_type": "execute_result",
          "data": {
            "text/plain": [
              "RandomizedSearchCV(cv=9, error_score=nan,\n",
              "                   estimator=RandomForestClassifier(bootstrap=True,\n",
              "                                                    ccp_alpha=0.0,\n",
              "                                                    class_weight=None,\n",
              "                                                    criterion='gini',\n",
              "                                                    max_depth=None,\n",
              "                                                    max_features='auto',\n",
              "                                                    max_leaf_nodes=None,\n",
              "                                                    max_samples=None,\n",
              "                                                    min_impurity_decrease=0.0,\n",
              "                                                    min_impurity_split=None,\n",
              "                                                    min_samples_leaf=1,\n",
              "                                                    min_samples_split=2,\n",
              "                                                    min_weight_fraction_leaf=0.0,\n",
              "                                                    n_estimators=100,\n",
              "                                                    n_jobs...\n",
              "                                                    warm_start=False),\n",
              "                   iid='deprecated', n_iter=10, n_jobs=None,\n",
              "                   param_distributions={'criterion': ['gini', 'entropy'],\n",
              "                                        'max_depth': range(2, 20),\n",
              "                                        'max_features': ['auto', 'log2'],\n",
              "                                        'min_samples_leaf': range(1, 10),\n",
              "                                        'min_samples_split': range(2, 10),\n",
              "                                        'n_estimators': [90, 100, 115, 130]},\n",
              "                   pre_dispatch='2*n_jobs', random_state=None, refit=True,\n",
              "                   return_train_score=False, scoring=None, verbose=0)"
            ]
          },
          "metadata": {
            "tags": []
          },
          "execution_count": 67
        }
      ]
    },
    {
      "cell_type": "code",
      "metadata": {
        "colab": {
          "base_uri": "https://localhost:8080/"
        },
        "id": "Pn9XOihYXotw",
        "outputId": "ee4329aa-dead-4f4c-e2be-f3977685691b"
      },
      "source": [
        "# let's see the  best parameters according to randomsearch\n",
        "rnd_search.best_params_"
      ],
      "id": "Pn9XOihYXotw",
      "execution_count": 68,
      "outputs": [
        {
          "output_type": "execute_result",
          "data": {
            "text/plain": [
              "{'criterion': 'gini',\n",
              " 'max_depth': 19,\n",
              " 'max_features': 'auto',\n",
              " 'min_samples_leaf': 1,\n",
              " 'min_samples_split': 7,\n",
              " 'n_estimators': 130}"
            ]
          },
          "metadata": {
            "tags": []
          },
          "execution_count": 68
        }
      ]
    },
    {
      "cell_type": "code",
      "metadata": {
        "id": "cE_qgZ7eYLB_"
      },
      "source": [
        "rand_clf_1=RandomForestClassifier(criterion= 'gini',\n",
        " max_depth = 19,\n",
        " max_features = 'auto',\n",
        " min_samples_leaf = 1,\n",
        " min_samples_split= 7,\n",
        " n_estimators = 130,random_state=6)"
      ],
      "id": "cE_qgZ7eYLB_",
      "execution_count": 69,
      "outputs": []
    },
    {
      "cell_type": "code",
      "metadata": {
        "colab": {
          "base_uri": "https://localhost:8080/",
          "height": 488
        },
        "id": "y4XnzmZaYi3G",
        "outputId": "7893df50-6b1c-4e68-ca2e-4cba7f70823b"
      },
      "source": [
        "Income_Prediction(rand_clf_1,\"rand_clf_1.pkl\")"
      ],
      "id": "y4XnzmZaYi3G",
      "execution_count": 70,
      "outputs": [
        {
          "output_type": "stream",
          "text": [
            "Train accuracy : 0.93\n",
            "Test accuracy : 0.82\n",
            "Train CV scores : [0.81791131 0.84938082 0.89757128 0.89459537 0.89565134]\n",
            "Train CV mean : 0.87\n",
            "confusion_matrix: [[9314 1798]\n",
            " [ 871 2670]]\n",
            "Accuracy: 0.8178529993857913\n",
            "Precision: 0.8381929445644348\n",
            "Recall: 0.9144820814923907\n",
            "F1score: 0.8746771845799878\n",
            "Train auc_value : 0.7961086157445162\n"
          ],
          "name": "stdout"
        },
        {
          "output_type": "display_data",
          "data": {
            "image/png": "[encoded data removed]",
            "text/plain": [
              "<Figure size 432x288 with 1 Axes>"
            ]
          },
          "metadata": {
            "tags": [],
            "needs_background": "light"
          }
        }
      ]
    },
    {
      "cell_type": "markdown",
      "metadata": {
        "id": "-yXB7XzH9TPX"
      },
      "source": [
        "# **XGB**"
      ],
      "id": "-yXB7XzH9TPX"
    },
    {
      "cell_type": "code",
      "metadata": {
        "id": "Z3ti95rwoltB"
      },
      "source": [
        "import xgboost as xgb\n",
        "from xgboost import XGBClassifier"
      ],
      "id": "Z3ti95rwoltB",
      "execution_count": 71,
      "outputs": []
    },
    {
      "cell_type": "code",
      "metadata": {
        "colab": {
          "base_uri": "https://localhost:8080/"
        },
        "id": "gKyGvnqRoxDv",
        "outputId": "7d6e9d70-ead4-437d-bc00-3d195e5b0f68"
      },
      "source": [
        "xgb_1 = XGBClassifier(objective='binary:logistic')\n",
        "param_grid={\n",
        "   \n",
        "    'learning_rate':[1,0.5,0.1,0.01,0.001],\n",
        "    'max_depth': [3,5,10,20],\n",
        "    'n_estimators':[10,50,100,200]\n",
        "}\n",
        "rnd_search = RandomizedSearchCV(XGBClassifier(objective='binary:logistic'), param_grid, n_iter =5, cv=5)\n",
        "rnd_search.fit(X_new,y_new)\n"
      ],
      "id": "gKyGvnqRoxDv",
      "execution_count": 72,
      "outputs": [
        {
          "output_type": "execute_result",
          "data": {
            "text/plain": [
              "RandomizedSearchCV(cv=5, error_score=nan,\n",
              "                   estimator=XGBClassifier(base_score=0.5, booster='gbtree',\n",
              "                                           colsample_bylevel=1,\n",
              "                                           colsample_bynode=1,\n",
              "                                           colsample_bytree=1, gamma=0,\n",
              "                                           learning_rate=0.1, max_delta_step=0,\n",
              "                                           max_depth=3, min_child_weight=1,\n",
              "                                           missing=None, n_estimators=100,\n",
              "                                           n_jobs=1, nthread=None,\n",
              "                                           objective='binary:logistic',\n",
              "                                           random_state=0, reg_alpha=0,\n",
              "                                           reg_lambda=1, scale_pos_weight=1,\n",
              "                                           seed=None, silent=None, subsample=1,\n",
              "                                           verbosity=1),\n",
              "                   iid='deprecated', n_iter=5, n_jobs=None,\n",
              "                   param_distributions={'learning_rate': [1, 0.5, 0.1, 0.01,\n",
              "                                                          0.001],\n",
              "                                        'max_depth': [3, 5, 10, 20],\n",
              "                                        'n_estimators': [10, 50, 100, 200]},\n",
              "                   pre_dispatch='2*n_jobs', random_state=None, refit=True,\n",
              "                   return_train_score=False, scoring=None, verbose=0)"
            ]
          },
          "metadata": {
            "tags": []
          },
          "execution_count": 72
        }
      ]
    },
    {
      "cell_type": "code",
      "metadata": {
        "colab": {
          "base_uri": "https://localhost:8080/"
        },
        "id": "0ILeF0LhBZhP",
        "outputId": "3f920eb7-bcc0-4063-de48-0f881b005e40"
      },
      "source": [
        "# let's see the  best parameters according to randomsearch\n",
        "rnd_search.best_params_"
      ],
      "id": "0ILeF0LhBZhP",
      "execution_count": 73,
      "outputs": [
        {
          "output_type": "execute_result",
          "data": {
            "text/plain": [
              "{'learning_rate': 1, 'max_depth': 3, 'n_estimators': 100}"
            ]
          },
          "metadata": {
            "tags": []
          },
          "execution_count": 73
        }
      ]
    },
    {
      "cell_type": "code",
      "metadata": {
        "id": "3zZ3PDDsBpqL"
      },
      "source": [
        "xgb_2=XGBClassifier(learning_rate= 1, max_depth= 3, n_estimators= 100)"
      ],
      "id": "3zZ3PDDsBpqL",
      "execution_count": 74,
      "outputs": []
    },
    {
      "cell_type": "code",
      "metadata": {
        "colab": {
          "base_uri": "https://localhost:8080/",
          "height": 488
        },
        "id": "iF5VRj6wB1m1",
        "outputId": "de342932-bfcb-41f1-8f04-c18f5564a1fe"
      },
      "source": [
        "Income_Prediction(xgb_2,\"xgb_2.pkl\")"
      ],
      "id": "iF5VRj6wB1m1",
      "execution_count": 75,
      "outputs": [
        {
          "output_type": "stream",
          "text": [
            "Train accuracy : 0.9\n",
            "Test accuracy : 0.83\n",
            "Train CV scores : [0.71462853 0.8313334  0.92934626 0.92704233 0.9312662 ]\n",
            "Train CV mean : 0.87\n",
            "confusion_matrix: [[9918 1194]\n",
            " [1317 2224]]\n",
            "Accuracy: 0.8286357742441821\n",
            "Precision: 0.892548596112311\n",
            "Recall: 0.8827770360480641\n",
            "F1score: 0.8876359242851388\n",
            "Train auc_value : 0.7603098812247517\n"
          ],
          "name": "stdout"
        },
        {
          "output_type": "display_data",
          "data": {
            "image/png": "[encoded data removed]",
            "text/plain": [
              "<Figure size 432x288 with 1 Axes>"
            ]
          },
          "metadata": {
            "tags": [],
            "needs_background": "light"
          }
        }
      ]
    },
    {
      "cell_type": "code",
      "metadata": {
        "colab": {
          "base_uri": "https://localhost:8080/",
          "height": 204
        },
        "id": "OkdERhPH4aNo",
        "outputId": "15f6a54c-e76c-4524-95d4-382c2bc7b128"
      },
      "source": [
        "Technique = [\"LogisticRegression\",\"KNN\",\"Decision tree\",\"RandomForest\",\"XGB\"]\n",
        "results=pd.DataFrame({'Model': Technique,'Train accuracy ': train_accuracy,'Test accuracy': test_accuracy,'CV score mean(Train)': CV,'AUC_value':auc,'Precision':precisionscore,'Recall':Recallscore,'f1 score':f1score})\n",
        "display(results)"
      ],
      "id": "OkdERhPH4aNo",
      "execution_count": 76,
      "outputs": [
        {
          "output_type": "display_data",
          "data": {
            "text/html": [
              "<div>\n",
              "<style scoped>\n",
              "    .dataframe tbody tr th:only-of-type {\n",
              "        vertical-align: middle;\n",
              "    }\n",
              "\n",
              "    .dataframe tbody tr th {\n",
              "        vertical-align: top;\n",
              "    }\n",
              "\n",
              "    .dataframe thead th {\n",
              "        text-align: right;\n",
              "    }\n",
              "</style>\n",
              "<table border=\"1\" class=\"dataframe\">\n",
              "  <thead>\n",
              "    <tr style=\"text-align: right;\">\n",
              "      <th></th>\n",
              "      <th>Model</th>\n",
              "      <th>Train accuracy</th>\n",
              "      <th>Test accuracy</th>\n",
              "      <th>CV score mean(Train)</th>\n",
              "      <th>AUC_value</th>\n",
              "      <th>Precision</th>\n",
              "      <th>Recall</th>\n",
              "      <th>f1 score</th>\n",
              "    </tr>\n",
              "  </thead>\n",
              "  <tbody>\n",
              "    <tr>\n",
              "      <th>0</th>\n",
              "      <td>LogisticRegression</td>\n",
              "      <td>0.75</td>\n",
              "      <td>0.73</td>\n",
              "      <td>0.75</td>\n",
              "      <td>0.7454</td>\n",
              "      <td>0.72</td>\n",
              "      <td>0.91</td>\n",
              "      <td>0.81</td>\n",
              "    </tr>\n",
              "    <tr>\n",
              "      <th>1</th>\n",
              "      <td>KNN</td>\n",
              "      <td>0.92</td>\n",
              "      <td>0.76</td>\n",
              "      <td>0.86</td>\n",
              "      <td>0.7482</td>\n",
              "      <td>0.78</td>\n",
              "      <td>0.90</td>\n",
              "      <td>0.83</td>\n",
              "    </tr>\n",
              "    <tr>\n",
              "      <th>2</th>\n",
              "      <td>Decision tree</td>\n",
              "      <td>1.00</td>\n",
              "      <td>0.77</td>\n",
              "      <td>0.83</td>\n",
              "      <td>0.7101</td>\n",
              "      <td>0.83</td>\n",
              "      <td>0.86</td>\n",
              "      <td>0.85</td>\n",
              "    </tr>\n",
              "    <tr>\n",
              "      <th>3</th>\n",
              "      <td>RandomForest</td>\n",
              "      <td>0.93</td>\n",
              "      <td>0.82</td>\n",
              "      <td>0.87</td>\n",
              "      <td>0.7961</td>\n",
              "      <td>0.84</td>\n",
              "      <td>0.91</td>\n",
              "      <td>0.87</td>\n",
              "    </tr>\n",
              "    <tr>\n",
              "      <th>4</th>\n",
              "      <td>XGB</td>\n",
              "      <td>0.90</td>\n",
              "      <td>0.83</td>\n",
              "      <td>0.87</td>\n",
              "      <td>0.7603</td>\n",
              "      <td>0.89</td>\n",
              "      <td>0.88</td>\n",
              "      <td>0.89</td>\n",
              "    </tr>\n",
              "  </tbody>\n",
              "</table>\n",
              "</div>"
            ],
            "text/plain": [
              "                Model  Train accuracy   ...  Recall  f1 score\n",
              "0  LogisticRegression             0.75  ...    0.91      0.81\n",
              "1                 KNN             0.92  ...    0.90      0.83\n",
              "2       Decision tree             1.00  ...    0.86      0.85\n",
              "3        RandomForest             0.93  ...    0.91      0.87\n",
              "4                 XGB             0.90  ...    0.88      0.89\n",
              "\n",
              "[5 rows x 8 columns]"
            ]
          },
          "metadata": {
            "tags": []
          }
        }
      ]
    },
    {
      "cell_type": "code",
      "metadata": {
        "id": "QVm_N0dvA0cJ"
      },
      "source": [
        ""
      ],
      "id": "QVm_N0dvA0cJ",
      "execution_count": null,
      "outputs": []
    },
    {
      "cell_type": "code",
      "metadata": {
        "id": "xLrIbEVmA40_"
      },
      "source": [
        ""
      ],
      "id": "xLrIbEVmA40_",
      "execution_count": null,
      "outputs": []
    },
    {
      "cell_type": "code",
      "metadata": {
        "id": "b4fAJBfwA5yj"
      },
      "source": [
        ""
      ],
      "id": "b4fAJBfwA5yj",
      "execution_count": null,
      "outputs": []
    },
    {
      "cell_type": "markdown",
      "metadata": {
        "id": "kl2q7_llBR1F"
      },
      "source": [
        "# **Final model creation**"
      ],
      "id": "kl2q7_llBR1F"
    },
    {
      "cell_type": "code",
      "metadata": {
        "colab": {
          "base_uri": "https://localhost:8080/",
          "height": 453
        },
        "id": "av9W1WxrBWk-",
        "outputId": "d93f994a-210b-4cdb-eb3b-7d161aecb4bd"
      },
      "source": [
        "X"
      ],
      "id": "av9W1WxrBWk-",
      "execution_count": 79,
      "outputs": [
        {
          "output_type": "execute_result",
          "data": {
            "text/html": [
              "<div>\n",
              "<style scoped>\n",
              "    .dataframe tbody tr th:only-of-type {\n",
              "        vertical-align: middle;\n",
              "    }\n",
              "\n",
              "    .dataframe tbody tr th {\n",
              "        vertical-align: top;\n",
              "    }\n",
              "\n",
              "    .dataframe thead th {\n",
              "        text-align: right;\n",
              "    }\n",
              "</style>\n",
              "<table border=\"1\" class=\"dataframe\">\n",
              "  <thead>\n",
              "    <tr style=\"text-align: right;\">\n",
              "      <th></th>\n",
              "      <th>age</th>\n",
              "      <th>workclass</th>\n",
              "      <th>fnlwgt</th>\n",
              "      <th>education</th>\n",
              "      <th>educational-num</th>\n",
              "      <th>marital-status</th>\n",
              "      <th>occupation</th>\n",
              "      <th>relationship</th>\n",
              "      <th>race</th>\n",
              "      <th>gender</th>\n",
              "      <th>hours-per-week</th>\n",
              "      <th>native-country</th>\n",
              "    </tr>\n",
              "  </thead>\n",
              "  <tbody>\n",
              "    <tr>\n",
              "      <th>0</th>\n",
              "      <td>25</td>\n",
              "      <td>3</td>\n",
              "      <td>226802</td>\n",
              "      <td>1</td>\n",
              "      <td>7</td>\n",
              "      <td>4</td>\n",
              "      <td>6</td>\n",
              "      <td>3</td>\n",
              "      <td>2</td>\n",
              "      <td>1</td>\n",
              "      <td>40</td>\n",
              "      <td>38</td>\n",
              "    </tr>\n",
              "    <tr>\n",
              "      <th>1</th>\n",
              "      <td>38</td>\n",
              "      <td>3</td>\n",
              "      <td>89814</td>\n",
              "      <td>11</td>\n",
              "      <td>9</td>\n",
              "      <td>2</td>\n",
              "      <td>4</td>\n",
              "      <td>0</td>\n",
              "      <td>4</td>\n",
              "      <td>1</td>\n",
              "      <td>50</td>\n",
              "      <td>38</td>\n",
              "    </tr>\n",
              "    <tr>\n",
              "      <th>2</th>\n",
              "      <td>28</td>\n",
              "      <td>1</td>\n",
              "      <td>336951</td>\n",
              "      <td>7</td>\n",
              "      <td>12</td>\n",
              "      <td>2</td>\n",
              "      <td>10</td>\n",
              "      <td>0</td>\n",
              "      <td>4</td>\n",
              "      <td>1</td>\n",
              "      <td>40</td>\n",
              "      <td>38</td>\n",
              "    </tr>\n",
              "    <tr>\n",
              "      <th>3</th>\n",
              "      <td>44</td>\n",
              "      <td>3</td>\n",
              "      <td>160323</td>\n",
              "      <td>15</td>\n",
              "      <td>10</td>\n",
              "      <td>2</td>\n",
              "      <td>6</td>\n",
              "      <td>0</td>\n",
              "      <td>2</td>\n",
              "      <td>1</td>\n",
              "      <td>40</td>\n",
              "      <td>38</td>\n",
              "    </tr>\n",
              "    <tr>\n",
              "      <th>4</th>\n",
              "      <td>18</td>\n",
              "      <td>3</td>\n",
              "      <td>103497</td>\n",
              "      <td>15</td>\n",
              "      <td>10</td>\n",
              "      <td>4</td>\n",
              "      <td>9</td>\n",
              "      <td>3</td>\n",
              "      <td>4</td>\n",
              "      <td>0</td>\n",
              "      <td>30</td>\n",
              "      <td>38</td>\n",
              "    </tr>\n",
              "    <tr>\n",
              "      <th>...</th>\n",
              "      <td>...</td>\n",
              "      <td>...</td>\n",
              "      <td>...</td>\n",
              "      <td>...</td>\n",
              "      <td>...</td>\n",
              "      <td>...</td>\n",
              "      <td>...</td>\n",
              "      <td>...</td>\n",
              "      <td>...</td>\n",
              "      <td>...</td>\n",
              "      <td>...</td>\n",
              "      <td>...</td>\n",
              "    </tr>\n",
              "    <tr>\n",
              "      <th>48837</th>\n",
              "      <td>27</td>\n",
              "      <td>3</td>\n",
              "      <td>257302</td>\n",
              "      <td>7</td>\n",
              "      <td>12</td>\n",
              "      <td>2</td>\n",
              "      <td>12</td>\n",
              "      <td>5</td>\n",
              "      <td>4</td>\n",
              "      <td>0</td>\n",
              "      <td>38</td>\n",
              "      <td>38</td>\n",
              "    </tr>\n",
              "    <tr>\n",
              "      <th>48838</th>\n",
              "      <td>40</td>\n",
              "      <td>3</td>\n",
              "      <td>154374</td>\n",
              "      <td>11</td>\n",
              "      <td>9</td>\n",
              "      <td>2</td>\n",
              "      <td>6</td>\n",
              "      <td>0</td>\n",
              "      <td>4</td>\n",
              "      <td>1</td>\n",
              "      <td>40</td>\n",
              "      <td>38</td>\n",
              "    </tr>\n",
              "    <tr>\n",
              "      <th>48839</th>\n",
              "      <td>58</td>\n",
              "      <td>3</td>\n",
              "      <td>151910</td>\n",
              "      <td>11</td>\n",
              "      <td>9</td>\n",
              "      <td>6</td>\n",
              "      <td>0</td>\n",
              "      <td>4</td>\n",
              "      <td>4</td>\n",
              "      <td>0</td>\n",
              "      <td>40</td>\n",
              "      <td>38</td>\n",
              "    </tr>\n",
              "    <tr>\n",
              "      <th>48840</th>\n",
              "      <td>22</td>\n",
              "      <td>3</td>\n",
              "      <td>201490</td>\n",
              "      <td>11</td>\n",
              "      <td>9</td>\n",
              "      <td>4</td>\n",
              "      <td>0</td>\n",
              "      <td>3</td>\n",
              "      <td>4</td>\n",
              "      <td>1</td>\n",
              "      <td>20</td>\n",
              "      <td>38</td>\n",
              "    </tr>\n",
              "    <tr>\n",
              "      <th>48841</th>\n",
              "      <td>52</td>\n",
              "      <td>4</td>\n",
              "      <td>287927</td>\n",
              "      <td>11</td>\n",
              "      <td>9</td>\n",
              "      <td>2</td>\n",
              "      <td>3</td>\n",
              "      <td>5</td>\n",
              "      <td>4</td>\n",
              "      <td>0</td>\n",
              "      <td>40</td>\n",
              "      <td>38</td>\n",
              "    </tr>\n",
              "  </tbody>\n",
              "</table>\n",
              "<p>48842 rows × 12 columns</p>\n",
              "</div>"
            ],
            "text/plain": [
              "       age  workclass  fnlwgt  ...  gender  hours-per-week  native-country\n",
              "0       25          3  226802  ...       1              40              38\n",
              "1       38          3   89814  ...       1              50              38\n",
              "2       28          1  336951  ...       1              40              38\n",
              "3       44          3  160323  ...       1              40              38\n",
              "4       18          3  103497  ...       0              30              38\n",
              "...    ...        ...     ...  ...     ...             ...             ...\n",
              "48837   27          3  257302  ...       0              38              38\n",
              "48838   40          3  154374  ...       1              40              38\n",
              "48839   58          3  151910  ...       0              40              38\n",
              "48840   22          3  201490  ...       1              20              38\n",
              "48841   52          4  287927  ...       0              40              38\n",
              "\n",
              "[48842 rows x 12 columns]"
            ]
          },
          "metadata": {
            "tags": []
          },
          "execution_count": 79
        }
      ]
    },
    {
      "cell_type": "code",
      "metadata": {
        "id": "ItLqmn2NB-1t"
      },
      "source": [
        "finalmodel = RandomForestClassifier(criterion= 'gini',\n",
        " max_depth = 19,\n",
        " max_features = 'auto',\n",
        " min_samples_leaf = 1,\n",
        " min_samples_split= 7,\n",
        " n_estimators = 130,random_state=6)"
      ],
      "id": "ItLqmn2NB-1t",
      "execution_count": 82,
      "outputs": []
    },
    {
      "cell_type": "code",
      "metadata": {
        "colab": {
          "base_uri": "https://localhost:8080/"
        },
        "id": "qHqZerWbEPfW",
        "outputId": "effff767-b169-45d6-9a65-d093ddf5435e"
      },
      "source": [
        "finalmodel.fit(X_new,y_new)"
      ],
      "id": "qHqZerWbEPfW",
      "execution_count": 83,
      "outputs": [
        {
          "output_type": "execute_result",
          "data": {
            "text/plain": [
              "RandomForestClassifier(bootstrap=True, ccp_alpha=0.0, class_weight=None,\n",
              "                       criterion='gini', max_depth=19, max_features='auto',\n",
              "                       max_leaf_nodes=None, max_samples=None,\n",
              "                       min_impurity_decrease=0.0, min_impurity_split=None,\n",
              "                       min_samples_leaf=1, min_samples_split=7,\n",
              "                       min_weight_fraction_leaf=0.0, n_estimators=130,\n",
              "                       n_jobs=None, oob_score=False, random_state=6, verbose=0,\n",
              "                       warm_start=False)"
            ]
          },
          "metadata": {
            "tags": []
          },
          "execution_count": 83
        }
      ]
    },
    {
      "cell_type": "code",
      "metadata": {
        "colab": {
          "base_uri": "https://localhost:8080/"
        },
        "id": "XCkFUXjQFkh8",
        "outputId": "0d95d5ee-b917-4926-b472-c31eb7058209"
      },
      "source": [
        "import numpy as np\n",
        "finalmodel.predict([[23,3,226802,1,4,6,3,2,3,1,40,38]])"
      ],
      "id": "XCkFUXjQFkh8",
      "execution_count": 84,
      "outputs": [
        {
          "output_type": "execute_result",
          "data": {
            "text/plain": [
              "array([1])"
            ]
          },
          "metadata": {
            "tags": []
          },
          "execution_count": 84
        }
      ]
    },
    {
      "cell_type": "code",
      "metadata": {
        "id": "deb1fmh3GtiM"
      },
      "source": [
        "import pickle \n",
        "filename = 'finalized_income_model.pk'\n",
        "pickle.dump(finalmodel, open(filename, 'wb'))"
      ],
      "id": "deb1fmh3GtiM",
      "execution_count": 85,
      "outputs": []
    },
    {
      "cell_type": "code",
      "metadata": {
        "id": "fyBUq4H3Gz2k"
      },
      "source": [
        "loaded_model1 = pickle.load(open(filename, 'rb'))"
      ],
      "id": "fyBUq4H3Gz2k",
      "execution_count": 86,
      "outputs": []
    },
    {
      "cell_type": "code",
      "metadata": {
        "colab": {
          "base_uri": "https://localhost:8080/"
        },
        "id": "5_jgkKD8G0b6",
        "outputId": "b4f6426f-f72d-414d-9ee7-469071ac61fd"
      },
      "source": [
        "loaded_model1.predict([[23,3,226802,1,4,6,3,2,3,1,40,38]])"
      ],
      "id": "5_jgkKD8G0b6",
      "execution_count": 87,
      "outputs": [
        {
          "output_type": "execute_result",
          "data": {
            "text/plain": [
              "array([1])"
            ]
          },
          "metadata": {
            "tags": []
          },
          "execution_count": 87
        }
      ]
    },
    {
      "cell_type": "code",
      "metadata": {
        "colab": {
          "base_uri": "https://localhost:8080/"
        },
        "id": "LAscffVQHotC",
        "outputId": "0c8a9cae-1b83-4510-89f4-903f3fb5d94b"
      },
      "source": [
        "type(loaded_model1)"
      ],
      "id": "LAscffVQHotC",
      "execution_count": 88,
      "outputs": [
        {
          "output_type": "execute_result",
          "data": {
            "text/plain": [
              "sklearn.ensemble._forest.RandomForestClassifier"
            ]
          },
          "metadata": {
            "tags": []
          },
          "execution_count": 88
        }
      ]
    },
    {
      "cell_type": "code",
      "metadata": {
        "colab": {
          "base_uri": "https://localhost:8080/"
        },
        "id": "N3OnLtHWHvrw",
        "outputId": "da43d721-4cb6-48d8-b820-d9034efaff05"
      },
      "source": [
        "loaded_model1"
      ],
      "id": "N3OnLtHWHvrw",
      "execution_count": 89,
      "outputs": [
        {
          "output_type": "execute_result",
          "data": {
            "text/plain": [
              "RandomForestClassifier(bootstrap=True, ccp_alpha=0.0, class_weight=None,\n",
              "                       criterion='gini', max_depth=19, max_features='auto',\n",
              "                       max_leaf_nodes=None, max_samples=None,\n",
              "                       min_impurity_decrease=0.0, min_impurity_split=None,\n",
              "                       min_samples_leaf=1, min_samples_split=7,\n",
              "                       min_weight_fraction_leaf=0.0, n_estimators=130,\n",
              "                       n_jobs=None, oob_score=False, random_state=6, verbose=0,\n",
              "                       warm_start=False)"
            ]
          },
          "metadata": {
            "tags": []
          },
          "execution_count": 89
        }
      ]
    },
    {
      "cell_type": "code",
      "metadata": {
        "colab": {
          "base_uri": "https://localhost:8080/"
        },
        "id": "jyVcZ-S6Iayn",
        "outputId": "7fd0152f-c374-4762-adb7-bf89498e71b8"
      },
      "source": [
        "X['native-country'].unique() #nominal Data"
      ],
      "id": "jyVcZ-S6Iayn",
      "execution_count": 90,
      "outputs": [
        {
          "output_type": "execute_result",
          "data": {
            "text/plain": [
              "array([38, 28, 12, 25,  5, 20, 10, 29, 36, 13,  7, 32, 39, 34,  3, 23, 18,\n",
              "        0, 30, 24,  8,  4, 35, 21,  1, 31,  2, 26, 15, 19, 33, 22,  6, 40,\n",
              "       17, 16, 11, 37, 27,  9, 14])"
            ]
          },
          "metadata": {
            "tags": []
          },
          "execution_count": 90
        }
      ]
    }
  ]
}